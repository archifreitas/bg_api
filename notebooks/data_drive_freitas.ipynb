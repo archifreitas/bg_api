{
 "cells": [
  {
   "cell_type": "code",
   "execution_count": 1,
   "id": "34d0ce6b",
   "metadata": {
    "collapsed": true
   },
   "outputs": [
    {
     "name": "stdout",
     "output_type": "stream",
     "text": [
      "Collecting pydrive\n",
      "  Downloading PyDrive-1.3.1.tar.gz (987 kB)\n",
      "\u001b[K     |████████████████████████████████| 987 kB 2.7 MB/s eta 0:00:01\n",
      "\u001b[?25hCollecting google-api-python-client>=1.2\n",
      "  Downloading google_api_python_client-2.9.0-py2.py3-none-any.whl (7.0 MB)\n",
      "\u001b[K     |████████████████████████████████| 7.0 MB 9.3 MB/s eta 0:00:01\n",
      "\u001b[?25hRequirement already satisfied: oauth2client>=4.0.0 in /Users/josefreitas/.pyenv/versions/3.8.6/envs/lewagon/lib/python3.8/site-packages (from pydrive) (4.1.3)\n",
      "Requirement already satisfied: PyYAML>=3.0 in /Users/josefreitas/.pyenv/versions/3.8.6/envs/lewagon/lib/python3.8/site-packages (from pydrive) (5.4.1)\n",
      "Collecting uritemplate<4dev,>=3.0.0\n",
      "  Downloading uritemplate-3.0.1-py2.py3-none-any.whl (15 kB)\n",
      "Collecting google-auth-httplib2>=0.1.0\n",
      "  Downloading google_auth_httplib2-0.1.0-py2.py3-none-any.whl (9.3 kB)\n",
      "Requirement already satisfied: google-auth<2dev,>=1.16.0 in /Users/josefreitas/.pyenv/versions/3.8.6/envs/lewagon/lib/python3.8/site-packages (from google-api-python-client>=1.2->pydrive) (1.28.1)\n",
      "Requirement already satisfied: six<2dev,>=1.13.0 in /Users/josefreitas/.pyenv/versions/3.8.6/envs/lewagon/lib/python3.8/site-packages (from google-api-python-client>=1.2->pydrive) (1.15.0)\n",
      "Requirement already satisfied: httplib2<1dev,>=0.15.0 in /Users/josefreitas/.pyenv/versions/3.8.6/envs/lewagon/lib/python3.8/site-packages (from google-api-python-client>=1.2->pydrive) (0.19.1)\n",
      "Requirement already satisfied: google-api-core<2dev,>=1.21.0 in /Users/josefreitas/.pyenv/versions/3.8.6/envs/lewagon/lib/python3.8/site-packages (from google-api-python-client>=1.2->pydrive) (1.28.0)\n",
      "Requirement already satisfied: requests<3.0.0dev,>=2.18.0 in /Users/josefreitas/.pyenv/versions/3.8.6/envs/lewagon/lib/python3.8/site-packages (from google-api-core<2dev,>=1.21.0->google-api-python-client>=1.2->pydrive) (2.25.1)\n",
      "Requirement already satisfied: googleapis-common-protos<2.0dev,>=1.6.0 in /Users/josefreitas/.pyenv/versions/3.8.6/envs/lewagon/lib/python3.8/site-packages (from google-api-core<2dev,>=1.21.0->google-api-python-client>=1.2->pydrive) (1.53.0)\n",
      "Requirement already satisfied: packaging>=14.3 in /Users/josefreitas/.pyenv/versions/3.8.6/envs/lewagon/lib/python3.8/site-packages (from google-api-core<2dev,>=1.21.0->google-api-python-client>=1.2->pydrive) (20.9)\n",
      "Requirement already satisfied: pytz in /Users/josefreitas/.pyenv/versions/3.8.6/envs/lewagon/lib/python3.8/site-packages (from google-api-core<2dev,>=1.21.0->google-api-python-client>=1.2->pydrive) (2021.1)\n",
      "Requirement already satisfied: protobuf>=3.12.0 in /Users/josefreitas/.pyenv/versions/3.8.6/envs/lewagon/lib/python3.8/site-packages (from google-api-core<2dev,>=1.21.0->google-api-python-client>=1.2->pydrive) (3.15.8)\n",
      "Requirement already satisfied: setuptools>=40.3.0 in /Users/josefreitas/.pyenv/versions/3.8.6/envs/lewagon/lib/python3.8/site-packages (from google-api-core<2dev,>=1.21.0->google-api-python-client>=1.2->pydrive) (49.2.1)\n",
      "Requirement already satisfied: cachetools<5.0,>=2.0.0 in /Users/josefreitas/.pyenv/versions/3.8.6/envs/lewagon/lib/python3.8/site-packages (from google-auth<2dev,>=1.16.0->google-api-python-client>=1.2->pydrive) (4.2.1)\n",
      "Requirement already satisfied: pyasn1-modules>=0.2.1 in /Users/josefreitas/.pyenv/versions/3.8.6/envs/lewagon/lib/python3.8/site-packages (from google-auth<2dev,>=1.16.0->google-api-python-client>=1.2->pydrive) (0.2.8)\n",
      "Requirement already satisfied: rsa<5,>=3.1.4 in /Users/josefreitas/.pyenv/versions/3.8.6/envs/lewagon/lib/python3.8/site-packages (from google-auth<2dev,>=1.16.0->google-api-python-client>=1.2->pydrive) (4.7.2)\n",
      "Requirement already satisfied: pyparsing<3,>=2.4.2 in /Users/josefreitas/.pyenv/versions/3.8.6/envs/lewagon/lib/python3.8/site-packages (from httplib2<1dev,>=0.15.0->google-api-python-client>=1.2->pydrive) (2.4.7)\n",
      "Requirement already satisfied: pyasn1>=0.1.7 in /Users/josefreitas/.pyenv/versions/3.8.6/envs/lewagon/lib/python3.8/site-packages (from oauth2client>=4.0.0->pydrive) (0.4.8)\n",
      "Requirement already satisfied: idna<3,>=2.5 in /Users/josefreitas/.pyenv/versions/3.8.6/envs/lewagon/lib/python3.8/site-packages (from requests<3.0.0dev,>=2.18.0->google-api-core<2dev,>=1.21.0->google-api-python-client>=1.2->pydrive) (2.10)\n",
      "Requirement already satisfied: urllib3<1.27,>=1.21.1 in /Users/josefreitas/.pyenv/versions/3.8.6/envs/lewagon/lib/python3.8/site-packages (from requests<3.0.0dev,>=2.18.0->google-api-core<2dev,>=1.21.0->google-api-python-client>=1.2->pydrive) (1.26.4)\n",
      "Requirement already satisfied: certifi>=2017.4.17 in /Users/josefreitas/.pyenv/versions/3.8.6/envs/lewagon/lib/python3.8/site-packages (from requests<3.0.0dev,>=2.18.0->google-api-core<2dev,>=1.21.0->google-api-python-client>=1.2->pydrive) (2020.12.5)\n",
      "Requirement already satisfied: chardet<5,>=3.0.2 in /Users/josefreitas/.pyenv/versions/3.8.6/envs/lewagon/lib/python3.8/site-packages (from requests<3.0.0dev,>=2.18.0->google-api-core<2dev,>=1.21.0->google-api-python-client>=1.2->pydrive) (4.0.0)\n",
      "Building wheels for collected packages: pydrive\n",
      "  Building wheel for pydrive (setup.py) ... \u001b[?25ldone\n",
      "\u001b[?25h  Created wheel for pydrive: filename=PyDrive-1.3.1-py3-none-any.whl size=27435 sha256=421ce12b9008c9fc5222df869a42dd174ce020ac81f1ca7a028ad445cd7c82e4\n",
      "  Stored in directory: /Users/josefreitas/Library/Caches/pip/wheels/c6/14/12/ccdcc5d3b41661f360f9c7d9f7ea9d1879a5f85aa4ecc8cc6f\n",
      "Successfully built pydrive\n",
      "Installing collected packages: uritemplate, google-auth-httplib2, google-api-python-client, pydrive\n",
      "Successfully installed google-api-python-client-2.9.0 google-auth-httplib2-0.1.0 pydrive-1.3.1 uritemplate-3.0.1\n",
      "\u001b[33mWARNING: You are using pip version 21.1.1; however, version 21.1.2 is available.\n",
      "You should consider upgrading via the '/Users/josefreitas/.pyenv/versions/3.8.6/envs/lewagon/bin/python3.8 -m pip install --upgrade pip' command.\u001b[0m\n"
     ]
    }
   ],
   "source": [
    "!pip install pydrive"
   ]
  },
  {
   "cell_type": "code",
   "execution_count": 6,
   "id": "9ac83089",
   "metadata": {},
   "outputs": [],
   "source": [
    "import pydrive"
   ]
  },
  {
   "cell_type": "code",
   "execution_count": 3,
   "id": "e76c33ad",
   "metadata": {},
   "outputs": [
    {
     "ename": "NameError",
     "evalue": "name 'gauth' is not defined",
     "output_type": "error",
     "traceback": [
      "\u001b[0;31m---------------------------------------------------------------------------\u001b[0m",
      "\u001b[0;31mNameError\u001b[0m                                 Traceback (most recent call last)",
      "\u001b[0;32m<ipython-input-3-792f41ab7318>\u001b[0m in \u001b[0;36m<module>\u001b[0;34m\u001b[0m\n\u001b[0;32m----> 1\u001b[0;31m \u001b[0mgauth\u001b[0m\u001b[0;34m.\u001b[0m\u001b[0mLocalWebserverAuth\u001b[0m\u001b[0;34m(\u001b[0m\u001b[0;34m)\u001b[0m\u001b[0;34m\u001b[0m\u001b[0;34m\u001b[0m\u001b[0m\n\u001b[0m",
      "\u001b[0;31mNameError\u001b[0m: name 'gauth' is not defined"
     ]
    }
   ],
   "source": [
    "gauth.LocalWebserverAuth()"
   ]
  },
  {
   "cell_type": "code",
   "execution_count": 4,
   "id": "5ddb8404",
   "metadata": {},
   "outputs": [
    {
     "ename": "NameError",
     "evalue": "name 'GoogleDrive' is not defined",
     "output_type": "error",
     "traceback": [
      "\u001b[0;31m---------------------------------------------------------------------------\u001b[0m",
      "\u001b[0;31mNameError\u001b[0m                                 Traceback (most recent call last)",
      "\u001b[0;32m<ipython-input-4-6cf7fa89f5e8>\u001b[0m in \u001b[0;36m<module>\u001b[0;34m\u001b[0m\n\u001b[0;32m----> 1\u001b[0;31m \u001b[0mdrive\u001b[0m \u001b[0;34m=\u001b[0m \u001b[0mGoogleDrive\u001b[0m\u001b[0;34m(\u001b[0m\u001b[0mgauth\u001b[0m\u001b[0;34m)\u001b[0m\u001b[0;34m\u001b[0m\u001b[0;34m\u001b[0m\u001b[0m\n\u001b[0m",
      "\u001b[0;31mNameError\u001b[0m: name 'GoogleDrive' is not defined"
     ]
    }
   ],
   "source": [
    "drive = GoogleDrive(gauth)"
   ]
  },
  {
   "cell_type": "code",
   "execution_count": 7,
   "id": "e12130dc",
   "metadata": {},
   "outputs": [
    {
     "name": "stdout",
     "output_type": "stream",
     "text": [
      "Usage: uvicorn [OPTIONS] APP\r\n",
      "Try 'uvicorn --help' for help.\r\n",
      "\r\n",
      "Error: no such option: -r\r\n"
     ]
    }
   ],
   "source": [
    "!uvicorn api.fast:app -reload"
   ]
  },
  {
   "cell_type": "code",
   "execution_count": 11,
   "id": "61db852a",
   "metadata": {},
   "outputs": [
    {
     "name": "stdout",
     "output_type": "stream",
     "text": [
      "\u001b[32mINFO\u001b[0m:     Uvicorn running on \u001b[1mhttp://127.0.0.1:8000\u001b[0m (Press CTRL+C to quit)\n",
      "\u001b[32mINFO\u001b[0m:     Started reloader process [\u001b[36m\u001b[1m93130\u001b[0m] using \u001b[36m\u001b[1mstatreload\u001b[0m\n",
      "\u001b[32mINFO\u001b[0m:     Started server process [\u001b[36m93132\u001b[0m]\n",
      "\u001b[32mINFO\u001b[0m:     Waiting for application startup.\n",
      "\u001b[32mINFO\u001b[0m:     Application startup complete.\n",
      "\u001b[32mINFO\u001b[0m:     127.0.0.1:59922 - \"\u001b[1mGET /docs HTTP/1.1\u001b[0m\" \u001b[32m200 OK\u001b[0m\n",
      "\u001b[32mINFO\u001b[0m:     127.0.0.1:59922 - \"\u001b[1mGET /openapi.json HTTP/1.1\u001b[0m\" \u001b[32m200 OK\u001b[0m\n",
      "^C\n",
      "\u001b[32mINFO\u001b[0m:     Shutting down\n",
      "\u001b[32mINFO\u001b[0m:     Waiting for application shutdown.\n",
      "\u001b[32mINFO\u001b[0m:     Application shutdown complete.\n",
      "\u001b[32mINFO\u001b[0m:     Finished server process [\u001b[36m93132\u001b[0m]\n"
     ]
    }
   ],
   "source": [
    "!uvicorn api.fast:app --reload"
   ]
  },
  {
   "cell_type": "code",
   "execution_count": 72,
   "id": "9a88a0a7",
   "metadata": {},
   "outputs": [
    {
     "name": "stdout",
     "output_type": "stream",
     "text": [
      "The autoreload extension is already loaded. To reload it, use:\n",
      "  %reload_ext autoreload\n"
     ]
    }
   ],
   "source": [
    "%load_ext autoreload\n",
    "%autoreload 2\n",
    "import pandas as pd"
   ]
  },
  {
   "cell_type": "code",
   "execution_count": 24,
   "id": "e7e18d3b",
   "metadata": {},
   "outputs": [],
   "source": [
    "data = {\n",
    "    \"title\": \"Israel-Gaza, Spa shootings, Obesity drugs: Your Tuesday Evening Briefing\",\n",
    "    \"author\": \"Whet Moser and Jade-Snow Joachim\",\n",
    "    \"source\": \"New York Times\",\n",
    "    \"url\": \"https://www.nytimes.com/2021/05/11/briefing/israel-gaza-spa-shootings-obesity-drugs.html\",\n",
    "    \"publishedAt\": \"2021-05-11\",\n",
    "    \"content\": \"10. And finally, the warm embrace of Asian supermarkets.\\r\\nH Mart began as Han Ah Reum, Korean for an armful, in Woodside, Queens. In 2020, its 105 locations sold $1.5 billion worth of kimchi, banchanâ€¦ [+837 chars]\"\n",
    "  }\n",
    "\n",
    "data_df = pd.DataFrame(data, index=[0])"
   ]
  },
  {
   "cell_type": "code",
   "execution_count": 25,
   "id": "c7819a9e",
   "metadata": {
    "scrolled": true
   },
   "outputs": [
    {
     "data": {
      "text/html": [
       "<div>\n",
       "<style scoped>\n",
       "    .dataframe tbody tr th:only-of-type {\n",
       "        vertical-align: middle;\n",
       "    }\n",
       "\n",
       "    .dataframe tbody tr th {\n",
       "        vertical-align: top;\n",
       "    }\n",
       "\n",
       "    .dataframe thead th {\n",
       "        text-align: right;\n",
       "    }\n",
       "</style>\n",
       "<table border=\"1\" class=\"dataframe\">\n",
       "  <thead>\n",
       "    <tr style=\"text-align: right;\">\n",
       "      <th></th>\n",
       "      <th>title</th>\n",
       "      <th>author</th>\n",
       "      <th>source</th>\n",
       "      <th>url</th>\n",
       "      <th>publishedAt</th>\n",
       "      <th>content</th>\n",
       "    </tr>\n",
       "  </thead>\n",
       "  <tbody>\n",
       "    <tr>\n",
       "      <th>0</th>\n",
       "      <td>Israel-Gaza, Spa shootings, Obesity drugs: You...</td>\n",
       "      <td>Whet Moser and Jade-Snow Joachim</td>\n",
       "      <td>New York Times</td>\n",
       "      <td>https://www.nytimes.com/2021/05/11/briefing/is...</td>\n",
       "      <td>2021-05-11</td>\n",
       "      <td>10. And finally, the warm embrace of Asian sup...</td>\n",
       "    </tr>\n",
       "  </tbody>\n",
       "</table>\n",
       "</div>"
      ],
      "text/plain": [
       "                                               title  ...                                            content\n",
       "0  Israel-Gaza, Spa shootings, Obesity drugs: You...  ...  10. And finally, the warm embrace of Asian sup...\n",
       "\n",
       "[1 rows x 6 columns]"
      ]
     },
     "execution_count": 25,
     "metadata": {},
     "output_type": "execute_result"
    }
   ],
   "source": [
    "data_df.head()"
   ]
  },
  {
   "cell_type": "code",
   "execution_count": 47,
   "id": "a86cbf10",
   "metadata": {},
   "outputs": [],
   "source": [
    "import os\n",
    "from google.cloud import storage\n",
    "\n",
    "os.environ[\"GOOGLE_APPLICATION_CREDENTIALS\"]='../api/wagon-bootcamp-311206-ca90fdd74d5b.json'\n",
    "\n",
    "# Loading the model\n",
    "client = storage.Client()\n",
    "path = \"gs://big_picture_model/model\"\n",
    "model = Classifier()"
   ]
  },
  {
   "cell_type": "code",
   "execution_count": null,
   "id": "ca3746d0",
   "metadata": {},
   "outputs": [],
   "source": []
  },
  {
   "cell_type": "code",
   "execution_count": 48,
   "id": "a05f129c",
   "metadata": {},
   "outputs": [
    {
     "ename": "FileNotFoundError",
     "evalue": "[Errno 2] No such file or directory: 'gs://big_picture_model/model/state.pkl'",
     "output_type": "error",
     "traceback": [
      "\u001b[0;31m---------------------------------------------------------------------------\u001b[0m",
      "\u001b[0;31mFileNotFoundError\u001b[0m                         Traceback (most recent call last)",
      "\u001b[0;32m<ipython-input-48-7775ddb11a21>\u001b[0m in \u001b[0;36m<module>\u001b[0;34m\u001b[0m\n\u001b[1;32m      1\u001b[0m \u001b[0;32mfrom\u001b[0m \u001b[0mbig_picture\u001b[0m\u001b[0;34m.\u001b[0m\u001b[0mclassifier\u001b[0m \u001b[0;32mimport\u001b[0m \u001b[0mClassifier\u001b[0m\u001b[0;34m\u001b[0m\u001b[0;34m\u001b[0m\u001b[0m\n\u001b[0;32m----> 2\u001b[0;31m \u001b[0mmodel\u001b[0m\u001b[0;34m.\u001b[0m\u001b[0mload\u001b[0m\u001b[0;34m(\u001b[0m\u001b[0mpath\u001b[0m\u001b[0;34m)\u001b[0m\u001b[0;34m\u001b[0m\u001b[0;34m\u001b[0m\u001b[0m\n\u001b[0m",
      "\u001b[0;32m~/.pyenv/versions/3.8.6/envs/dev-env/lib/python3.8/site-packages/big_picture/classifier.py\u001b[0m in \u001b[0;36mload\u001b[0;34m(self, path)\u001b[0m\n\u001b[1;32m    152\u001b[0m         \u001b[0mstate_path\u001b[0m \u001b[0;34m=\u001b[0m \u001b[0mos\u001b[0m\u001b[0;34m.\u001b[0m\u001b[0mpath\u001b[0m\u001b[0;34m.\u001b[0m\u001b[0mjoin\u001b[0m\u001b[0;34m(\u001b[0m\u001b[0mpath\u001b[0m\u001b[0;34m,\u001b[0m \u001b[0;34m'state.pkl'\u001b[0m\u001b[0;34m)\u001b[0m\u001b[0;34m\u001b[0m\u001b[0;34m\u001b[0m\u001b[0m\n\u001b[1;32m    153\u001b[0m \u001b[0;34m\u001b[0m\u001b[0m\n\u001b[0;32m--> 154\u001b[0;31m         \u001b[0;32mwith\u001b[0m \u001b[0mopen\u001b[0m\u001b[0;34m(\u001b[0m\u001b[0mstate_path\u001b[0m\u001b[0;34m,\u001b[0m \u001b[0;34m'rb'\u001b[0m\u001b[0;34m)\u001b[0m \u001b[0;32mas\u001b[0m \u001b[0mfp\u001b[0m\u001b[0;34m:\u001b[0m\u001b[0;34m\u001b[0m\u001b[0;34m\u001b[0m\u001b[0m\n\u001b[0m\u001b[1;32m    155\u001b[0m             \u001b[0mstate\u001b[0m \u001b[0;34m=\u001b[0m \u001b[0mpickle\u001b[0m\u001b[0;34m.\u001b[0m\u001b[0mload\u001b[0m\u001b[0;34m(\u001b[0m\u001b[0mfp\u001b[0m\u001b[0;34m)\u001b[0m\u001b[0;34m\u001b[0m\u001b[0;34m\u001b[0m\u001b[0m\n\u001b[1;32m    156\u001b[0m \u001b[0;34m\u001b[0m\u001b[0m\n",
      "\u001b[0;31mFileNotFoundError\u001b[0m: [Errno 2] No such file or directory: 'gs://big_picture_model/model/state.pkl'"
     ]
    }
   ],
   "source": [
    "from big_picture.classifier import Classifier\n",
    "model.load(path)"
   ]
  },
  {
   "cell_type": "code",
   "execution_count": 44,
   "id": "a500755d",
   "metadata": {},
   "outputs": [],
   "source": [
    "this_cluster = model.labels['Activism'].clusters[0]"
   ]
  },
  {
   "cell_type": "code",
   "execution_count": 35,
   "id": "093f0c2f",
   "metadata": {},
   "outputs": [
    {
     "name": "stdout",
     "output_type": "stream",
     "text": [
      "Preparing pre_processed_text column\n",
      "Lowering the cases\n",
      "-------------------------\n",
      "Minor pre-processing done\n",
      "-------------------------\n",
      "Counting numbers\n",
      "Revealing emotions\n",
      "Analyzing vocabulary bank account!\n",
      "-------------------------\n",
      "New features added\n",
      "-------------------------\n",
      "Removing digits\n",
      "Removing pesky dots\n",
      "Disabling emojis\n",
      "-------------------------\n",
      "Excess data removed\n",
      "-------------------------\n",
      "Tokenizing\n",
      "Checking for stopwords\n",
      "Lematizing, yummy!\n",
      "-------------------------\n",
      "Data pre-processed\n",
      "-------------------------\n"
     ]
    },
    {
     "data": {
      "application/vnd.jupyter.widget-view+json": {
       "model_id": "399fbed65af142e0a1174f9924e7a2a7",
       "version_major": 2,
       "version_minor": 0
      },
      "text/plain": [
       "Batches:   0%|          | 0/1 [00:00<?, ?it/s]"
      ]
     },
     "metadata": {},
     "output_type": "display_data"
    },
    {
     "name": "stdout",
     "output_type": "stream",
     "text": [
      "[[0.10688773 0.05002203 0.06250935 0.04331383 0.06664109 0.09510195\n",
      "  0.03418231 0.04246999 0.03636655 0.05186142 0.01846061 0.03092981\n",
      "  0.10565282 0.08026114 0.15233143 0.02300794]]\n",
      "[]\n"
     ]
    },
    {
     "ename": "AttributeError",
     "evalue": "'Classifier' object has no attribute 'sa_model'",
     "output_type": "error",
     "traceback": [
      "\u001b[0;31m---------------------------------------------------------------------------\u001b[0m",
      "\u001b[0;31mAttributeError\u001b[0m                            Traceback (most recent call last)",
      "\u001b[0;32m<ipython-input-35-248b96d7a269>\u001b[0m in \u001b[0;36m<module>\u001b[0;34m\u001b[0m\n\u001b[0;32m----> 1\u001b[0;31m \u001b[0mprediction\u001b[0m \u001b[0;34m=\u001b[0m \u001b[0mmodel\u001b[0m\u001b[0;34m.\u001b[0m\u001b[0mpredict\u001b[0m\u001b[0;34m(\u001b[0m\u001b[0mdata_df\u001b[0m\u001b[0;34m,\u001b[0m \u001b[0msource\u001b[0m\u001b[0;34m=\u001b[0m\u001b[0;34m'prepared'\u001b[0m\u001b[0;34m,\u001b[0m \u001b[0mparams\u001b[0m\u001b[0;34m=\u001b[0m\u001b[0;34m{\u001b[0m\u001b[0;34m'cat_mapping'\u001b[0m\u001b[0;34m:\u001b[0m \u001b[0;32mFalse\u001b[0m\u001b[0;34m}\u001b[0m\u001b[0;34m,\u001b[0m \u001b[0mprinted\u001b[0m\u001b[0;34m=\u001b[0m\u001b[0;32mTrue\u001b[0m\u001b[0;34m)\u001b[0m\u001b[0;34m\u001b[0m\u001b[0;34m\u001b[0m\u001b[0m\n\u001b[0m",
      "\u001b[0;32m~/.pyenv/versions/3.8.6/envs/dev-env/lib/python3.8/site-packages/big_picture/classifier.py\u001b[0m in \u001b[0;36mpredict\u001b[0;34m(self, df, source, params, sample, printed)\u001b[0m\n\u001b[1;32m    253\u001b[0m         \u001b[0mprint\u001b[0m\u001b[0;34m(\u001b[0m\u001b[0mlabels\u001b[0m\u001b[0;34m)\u001b[0m\u001b[0;34m\u001b[0m\u001b[0;34m\u001b[0m\u001b[0m\n\u001b[1;32m    254\u001b[0m \u001b[0;34m\u001b[0m\u001b[0m\n\u001b[0;32m--> 255\u001b[0;31m         sa = softmax(self.sa_model(self.tokenizer(\n\u001b[0m\u001b[1;32m    256\u001b[0m                     \u001b[0mdf\u001b[0m\u001b[0;34m[\u001b[0m\u001b[0;34m'minor_preprocessing'\u001b[0m\u001b[0;34m]\u001b[0m\u001b[0;34m.\u001b[0m\u001b[0miloc\u001b[0m\u001b[0;34m[\u001b[0m\u001b[0;36m0\u001b[0m\u001b[0;34m]\u001b[0m\u001b[0;34m,\u001b[0m\u001b[0;34m\u001b[0m\u001b[0;34m\u001b[0m\u001b[0m\n\u001b[1;32m    257\u001b[0m                     \u001b[0mreturn_tensors\u001b[0m\u001b[0;34m=\u001b[0m\u001b[0;34m'tf'\u001b[0m\u001b[0;34m,\u001b[0m\u001b[0;34m\u001b[0m\u001b[0;34m\u001b[0m\u001b[0m\n",
      "\u001b[0;31mAttributeError\u001b[0m: 'Classifier' object has no attribute 'sa_model'"
     ]
    }
   ],
   "source": [
    "prediction = model.predict(data_df, source='prepared', params={'cat_mapping': False}, printed=True)"
   ]
  },
  {
   "cell_type": "code",
   "execution_count": 36,
   "id": "0f915378",
   "metadata": {},
   "outputs": [
    {
     "ename": "NameError",
     "evalue": "name 'prediction' is not defined",
     "output_type": "error",
     "traceback": [
      "\u001b[0;31m---------------------------------------------------------------------------\u001b[0m",
      "\u001b[0;31mNameError\u001b[0m                                 Traceback (most recent call last)",
      "\u001b[0;32m<ipython-input-36-26b520819def>\u001b[0m in \u001b[0;36m<module>\u001b[0;34m\u001b[0m\n\u001b[0;32m----> 1\u001b[0;31m \u001b[0;32mfor\u001b[0m \u001b[0mkey\u001b[0m \u001b[0;32min\u001b[0m \u001b[0mprediction\u001b[0m\u001b[0;34m.\u001b[0m\u001b[0mkeys\u001b[0m\u001b[0;34m(\u001b[0m\u001b[0;34m)\u001b[0m\u001b[0;34m:\u001b[0m\u001b[0;34m\u001b[0m\u001b[0;34m\u001b[0m\u001b[0m\n\u001b[0m\u001b[1;32m      2\u001b[0m     \u001b[0mthis_cluster\u001b[0m \u001b[0;34m=\u001b[0m \u001b[0mprediction\u001b[0m\u001b[0;34m[\u001b[0m\u001b[0mkey\u001b[0m\u001b[0;34m]\u001b[0m\u001b[0;34m\u001b[0m\u001b[0;34m\u001b[0m\u001b[0m\n",
      "\u001b[0;31mNameError\u001b[0m: name 'prediction' is not defined"
     ]
    }
   ],
   "source": [
    "for key in prediction.keys():\n",
    "    this_cluster = prediction[key]\n"
   ]
  },
  {
   "cell_type": "code",
   "execution_count": 45,
   "id": "e7d964c3",
   "metadata": {},
   "outputs": [],
   "source": [
    "res_dict = {'data': this_cluster.df,\n",
    "            'topic': this_cluster.topic,\n",
    "            'word_cloud': this_cluster.show_wordcloud}"
   ]
  },
  {
   "cell_type": "code",
   "execution_count": 46,
   "id": "0cb6f77c",
   "metadata": {},
   "outputs": [
    {
     "data": {
      "text/plain": [
       "{'data':                                                 title        SA\n",
       " 0   Florida zoo announces birth of southern white ... -0.816333\n",
       " 1   Florida zoo announces birth of southern white ... -0.820588\n",
       " 2   China’s wildlife authorities plan to guide wan...  0.867942\n",
       " 3   You will love these excellent photos from the ... -0.713188\n",
       " 4   Edenhope-bred kelpie, Hoover, sells for $35,20... -0.890609\n",
       " 5   Tusker ‘Silver Monstra’ to be captured by Fore... -0.921679\n",
       " 6   Belugas to arrive at Mystic Aquarium after leg... -0.976692\n",
       " 7   Defence Force responds to commercial distress ... -0.964472\n",
       " 8   Belugas to arrive at Mystic Aquarium after leg... -0.972112\n",
       " 9   Adorable Video Shows Rescue Puppies on a Field...  0.785752\n",
       " 10  Disney examines mask policy, theme park capaci... -0.958290\n",
       " 11  Sgt Matt Ratana: Police puppies named in shot ... -0.984078\n",
       " 12  Spotted a few herons this spring? There's a re... -0.883994\n",
       " 13  News24.com | Boom times for organic cocoa in I...  0.985956\n",
       " 14  Ospreys' Llyn Brenig rebuilt-nest taken over b... -0.990462\n",
       " 15  Campfires to look a little different on Tofino... -0.986560\n",
       " 16     The shocking ways wild animals use electricity -0.304175,\n",
       " 'topic': ['oil',\n",
       "  'fuel',\n",
       "  'refinery',\n",
       "  'water',\n",
       "  'crisis',\n",
       "  'pipeline',\n",
       "  'dirty',\n",
       "  'klamath',\n",
       "  'ordered',\n",
       "  'year'],\n",
       " 'word_cloud': <bound method Cluster.show_wordcloud of <big_picture.clusters.Cluster object at 0x1c96a4610>>}"
      ]
     },
     "execution_count": 46,
     "metadata": {},
     "output_type": "execute_result"
    }
   ],
   "source": [
    "res_dict"
   ]
  },
  {
   "cell_type": "code",
   "execution_count": 60,
   "id": "9ad1891b",
   "metadata": {},
   "outputs": [
    {
     "data": {
      "text/plain": [
       "dict"
      ]
     },
     "execution_count": 60,
     "metadata": {},
     "output_type": "execute_result"
    }
   ],
   "source": [
    "type(res_dict)"
   ]
  },
  {
   "cell_type": "code",
   "execution_count": 29,
   "id": "d05f93f3",
   "metadata": {},
   "outputs": [
    {
     "ename": "NameError",
     "evalue": "name 'this_cluster' is not defined",
     "output_type": "error",
     "traceback": [
      "\u001b[0;31m---------------------------------------------------------------------------\u001b[0m",
      "\u001b[0;31mNameError\u001b[0m                                 Traceback (most recent call last)",
      "\u001b[0;32m<ipython-input-29-3d16ed930383>\u001b[0m in \u001b[0;36m<module>\u001b[0;34m\u001b[0m\n\u001b[0;32m----> 1\u001b[0;31m \u001b[0mthis_cluster\u001b[0m\u001b[0;34m.\u001b[0m\u001b[0mdf\u001b[0m\u001b[0;34m\u001b[0m\u001b[0;34m\u001b[0m\u001b[0m\n\u001b[0m",
      "\u001b[0;31mNameError\u001b[0m: name 'this_cluster' is not defined"
     ]
    }
   ],
   "source": [
    "this_cluster.df"
   ]
  },
  {
   "cell_type": "code",
   "execution_count": 63,
   "id": "34c14fff",
   "metadata": {},
   "outputs": [
    {
     "data": {
      "text/plain": [
       "list"
      ]
     },
     "execution_count": 63,
     "metadata": {},
     "output_type": "execute_result"
    }
   ],
   "source": [
    "type(this_cluster.topic)"
   ]
  },
  {
   "cell_type": "code",
   "execution_count": 8,
   "id": "0a54d701",
   "metadata": {},
   "outputs": [],
   "source": [
    "import requests"
   ]
  },
  {
   "cell_type": "code",
   "execution_count": 9,
   "id": "42c614a6",
   "metadata": {},
   "outputs": [],
   "source": [
    "url = \"https://api-s4zpk52g3a-ew.a.run.app\""
   ]
  },
  {
   "cell_type": "code",
   "execution_count": 11,
   "id": "930b281a",
   "metadata": {},
   "outputs": [],
   "source": [
    "response = requests.get(url + \"/search\", params={'query': 'trump'})"
   ]
  },
  {
   "cell_type": "code",
   "execution_count": 14,
   "id": "92d1cb24",
   "metadata": {},
   "outputs": [],
   "source": [
    "data = response.json()['0']"
   ]
  },
  {
   "cell_type": "code",
   "execution_count": 23,
   "id": "ed720112",
   "metadata": {},
   "outputs": [],
   "source": [
    "example = {\n",
    "    \"title\": \"Israel-Gaza, Spa shootings, Obesity drugs: Your Tuesday Evening Briefing\",\n",
    "    \"author\": \"Whet Moser and Jade-Snow Joachim\",\n",
    "    \"source\": \"New York Times\",\n",
    "    \"description\": \"random desc\",\n",
    "    \"url\": \"https://www.nytimes.com/2021/05/11/briefing/israel-gaza-spa-shootings-obesity-drugs.html\",\n",
    "    \"publishedAt\": \"2021-05-11\",\n",
    "    \"content\": \"10. And finally, the warm embrace of Asian supermarkets.\\r\\nH Mart began as Han Ah Reum, Korean for an armful, in Woodside, Queens. In 2020, its 105 locations sold $1.5 billion worth of kimchi, banchanâ€¦ [+837 chars]\"\n",
    "}"
   ]
  },
  {
   "cell_type": "code",
   "execution_count": 26,
   "id": "68179c72",
   "metadata": {},
   "outputs": [],
   "source": [
    "response = requests.post(url + '/predict', json=example)"
   ]
  },
  {
   "cell_type": "code",
   "execution_count": 28,
   "id": "098f2f06",
   "metadata": {},
   "outputs": [
    {
     "data": {
      "text/plain": [
       "<Response [500]>"
      ]
     },
     "execution_count": 28,
     "metadata": {},
     "output_type": "execute_result"
    }
   ],
   "source": [
    "response"
   ]
  },
  {
   "cell_type": "code",
   "execution_count": null,
   "id": "21ca0de8",
   "metadata": {},
   "outputs": [],
   "source": []
  }
 ],
 "metadata": {
  "kernelspec": {
   "display_name": "Python 3",
   "language": "python",
   "name": "python3"
  },
  "language_info": {
   "codemirror_mode": {
    "name": "ipython",
    "version": 3
   },
   "file_extension": ".py",
   "mimetype": "text/x-python",
   "name": "python",
   "nbconvert_exporter": "python",
   "pygments_lexer": "ipython3",
   "version": "3.8.6"
  },
  "toc": {
   "base_numbering": 1,
   "nav_menu": {},
   "number_sections": true,
   "sideBar": true,
   "skip_h1_title": false,
   "title_cell": "Table of Contents",
   "title_sidebar": "Contents",
   "toc_cell": false,
   "toc_position": {},
   "toc_section_display": true,
   "toc_window_display": false
  }
 },
 "nbformat": 4,
 "nbformat_minor": 5
}
