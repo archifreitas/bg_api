{
 "cells": [
  {
   "cell_type": "code",
   "execution_count": 1,
   "id": "34d0ce6b",
   "metadata": {
    "collapsed": true
   },
   "outputs": [
    {
     "name": "stdout",
     "output_type": "stream",
     "text": [
      "Collecting pydrive\n",
      "  Downloading PyDrive-1.3.1.tar.gz (987 kB)\n",
      "\u001b[K     |████████████████████████████████| 987 kB 2.7 MB/s eta 0:00:01\n",
      "\u001b[?25hCollecting google-api-python-client>=1.2\n",
      "  Downloading google_api_python_client-2.9.0-py2.py3-none-any.whl (7.0 MB)\n",
      "\u001b[K     |████████████████████████████████| 7.0 MB 9.3 MB/s eta 0:00:01\n",
      "\u001b[?25hRequirement already satisfied: oauth2client>=4.0.0 in /Users/josefreitas/.pyenv/versions/3.8.6/envs/lewagon/lib/python3.8/site-packages (from pydrive) (4.1.3)\n",
      "Requirement already satisfied: PyYAML>=3.0 in /Users/josefreitas/.pyenv/versions/3.8.6/envs/lewagon/lib/python3.8/site-packages (from pydrive) (5.4.1)\n",
      "Collecting uritemplate<4dev,>=3.0.0\n",
      "  Downloading uritemplate-3.0.1-py2.py3-none-any.whl (15 kB)\n",
      "Collecting google-auth-httplib2>=0.1.0\n",
      "  Downloading google_auth_httplib2-0.1.0-py2.py3-none-any.whl (9.3 kB)\n",
      "Requirement already satisfied: google-auth<2dev,>=1.16.0 in /Users/josefreitas/.pyenv/versions/3.8.6/envs/lewagon/lib/python3.8/site-packages (from google-api-python-client>=1.2->pydrive) (1.28.1)\n",
      "Requirement already satisfied: six<2dev,>=1.13.0 in /Users/josefreitas/.pyenv/versions/3.8.6/envs/lewagon/lib/python3.8/site-packages (from google-api-python-client>=1.2->pydrive) (1.15.0)\n",
      "Requirement already satisfied: httplib2<1dev,>=0.15.0 in /Users/josefreitas/.pyenv/versions/3.8.6/envs/lewagon/lib/python3.8/site-packages (from google-api-python-client>=1.2->pydrive) (0.19.1)\n",
      "Requirement already satisfied: google-api-core<2dev,>=1.21.0 in /Users/josefreitas/.pyenv/versions/3.8.6/envs/lewagon/lib/python3.8/site-packages (from google-api-python-client>=1.2->pydrive) (1.28.0)\n",
      "Requirement already satisfied: requests<3.0.0dev,>=2.18.0 in /Users/josefreitas/.pyenv/versions/3.8.6/envs/lewagon/lib/python3.8/site-packages (from google-api-core<2dev,>=1.21.0->google-api-python-client>=1.2->pydrive) (2.25.1)\n",
      "Requirement already satisfied: googleapis-common-protos<2.0dev,>=1.6.0 in /Users/josefreitas/.pyenv/versions/3.8.6/envs/lewagon/lib/python3.8/site-packages (from google-api-core<2dev,>=1.21.0->google-api-python-client>=1.2->pydrive) (1.53.0)\n",
      "Requirement already satisfied: packaging>=14.3 in /Users/josefreitas/.pyenv/versions/3.8.6/envs/lewagon/lib/python3.8/site-packages (from google-api-core<2dev,>=1.21.0->google-api-python-client>=1.2->pydrive) (20.9)\n",
      "Requirement already satisfied: pytz in /Users/josefreitas/.pyenv/versions/3.8.6/envs/lewagon/lib/python3.8/site-packages (from google-api-core<2dev,>=1.21.0->google-api-python-client>=1.2->pydrive) (2021.1)\n",
      "Requirement already satisfied: protobuf>=3.12.0 in /Users/josefreitas/.pyenv/versions/3.8.6/envs/lewagon/lib/python3.8/site-packages (from google-api-core<2dev,>=1.21.0->google-api-python-client>=1.2->pydrive) (3.15.8)\n",
      "Requirement already satisfied: setuptools>=40.3.0 in /Users/josefreitas/.pyenv/versions/3.8.6/envs/lewagon/lib/python3.8/site-packages (from google-api-core<2dev,>=1.21.0->google-api-python-client>=1.2->pydrive) (49.2.1)\n",
      "Requirement already satisfied: cachetools<5.0,>=2.0.0 in /Users/josefreitas/.pyenv/versions/3.8.6/envs/lewagon/lib/python3.8/site-packages (from google-auth<2dev,>=1.16.0->google-api-python-client>=1.2->pydrive) (4.2.1)\n",
      "Requirement already satisfied: pyasn1-modules>=0.2.1 in /Users/josefreitas/.pyenv/versions/3.8.6/envs/lewagon/lib/python3.8/site-packages (from google-auth<2dev,>=1.16.0->google-api-python-client>=1.2->pydrive) (0.2.8)\n",
      "Requirement already satisfied: rsa<5,>=3.1.4 in /Users/josefreitas/.pyenv/versions/3.8.6/envs/lewagon/lib/python3.8/site-packages (from google-auth<2dev,>=1.16.0->google-api-python-client>=1.2->pydrive) (4.7.2)\n",
      "Requirement already satisfied: pyparsing<3,>=2.4.2 in /Users/josefreitas/.pyenv/versions/3.8.6/envs/lewagon/lib/python3.8/site-packages (from httplib2<1dev,>=0.15.0->google-api-python-client>=1.2->pydrive) (2.4.7)\n",
      "Requirement already satisfied: pyasn1>=0.1.7 in /Users/josefreitas/.pyenv/versions/3.8.6/envs/lewagon/lib/python3.8/site-packages (from oauth2client>=4.0.0->pydrive) (0.4.8)\n",
      "Requirement already satisfied: idna<3,>=2.5 in /Users/josefreitas/.pyenv/versions/3.8.6/envs/lewagon/lib/python3.8/site-packages (from requests<3.0.0dev,>=2.18.0->google-api-core<2dev,>=1.21.0->google-api-python-client>=1.2->pydrive) (2.10)\n",
      "Requirement already satisfied: urllib3<1.27,>=1.21.1 in /Users/josefreitas/.pyenv/versions/3.8.6/envs/lewagon/lib/python3.8/site-packages (from requests<3.0.0dev,>=2.18.0->google-api-core<2dev,>=1.21.0->google-api-python-client>=1.2->pydrive) (1.26.4)\n",
      "Requirement already satisfied: certifi>=2017.4.17 in /Users/josefreitas/.pyenv/versions/3.8.6/envs/lewagon/lib/python3.8/site-packages (from requests<3.0.0dev,>=2.18.0->google-api-core<2dev,>=1.21.0->google-api-python-client>=1.2->pydrive) (2020.12.5)\n",
      "Requirement already satisfied: chardet<5,>=3.0.2 in /Users/josefreitas/.pyenv/versions/3.8.6/envs/lewagon/lib/python3.8/site-packages (from requests<3.0.0dev,>=2.18.0->google-api-core<2dev,>=1.21.0->google-api-python-client>=1.2->pydrive) (4.0.0)\n",
      "Building wheels for collected packages: pydrive\n",
      "  Building wheel for pydrive (setup.py) ... \u001b[?25ldone\n",
      "\u001b[?25h  Created wheel for pydrive: filename=PyDrive-1.3.1-py3-none-any.whl size=27435 sha256=421ce12b9008c9fc5222df869a42dd174ce020ac81f1ca7a028ad445cd7c82e4\n",
      "  Stored in directory: /Users/josefreitas/Library/Caches/pip/wheels/c6/14/12/ccdcc5d3b41661f360f9c7d9f7ea9d1879a5f85aa4ecc8cc6f\n",
      "Successfully built pydrive\n",
      "Installing collected packages: uritemplate, google-auth-httplib2, google-api-python-client, pydrive\n",
      "Successfully installed google-api-python-client-2.9.0 google-auth-httplib2-0.1.0 pydrive-1.3.1 uritemplate-3.0.1\n",
      "\u001b[33mWARNING: You are using pip version 21.1.1; however, version 21.1.2 is available.\n",
      "You should consider upgrading via the '/Users/josefreitas/.pyenv/versions/3.8.6/envs/lewagon/bin/python3.8 -m pip install --upgrade pip' command.\u001b[0m\n"
     ]
    }
   ],
   "source": [
    "!pip install pydrive"
   ]
  },
  {
   "cell_type": "code",
   "execution_count": 6,
   "id": "9ac83089",
   "metadata": {},
   "outputs": [],
   "source": [
    "import pydrive"
   ]
  },
  {
   "cell_type": "code",
   "execution_count": 3,
   "id": "e76c33ad",
   "metadata": {},
   "outputs": [
    {
     "ename": "NameError",
     "evalue": "name 'gauth' is not defined",
     "output_type": "error",
     "traceback": [
      "\u001b[0;31m---------------------------------------------------------------------------\u001b[0m",
      "\u001b[0;31mNameError\u001b[0m                                 Traceback (most recent call last)",
      "\u001b[0;32m<ipython-input-3-792f41ab7318>\u001b[0m in \u001b[0;36m<module>\u001b[0;34m\u001b[0m\n\u001b[0;32m----> 1\u001b[0;31m \u001b[0mgauth\u001b[0m\u001b[0;34m.\u001b[0m\u001b[0mLocalWebserverAuth\u001b[0m\u001b[0;34m(\u001b[0m\u001b[0;34m)\u001b[0m\u001b[0;34m\u001b[0m\u001b[0;34m\u001b[0m\u001b[0m\n\u001b[0m",
      "\u001b[0;31mNameError\u001b[0m: name 'gauth' is not defined"
     ]
    }
   ],
   "source": [
    "gauth.LocalWebserverAuth()"
   ]
  },
  {
   "cell_type": "code",
   "execution_count": 4,
   "id": "5ddb8404",
   "metadata": {},
   "outputs": [
    {
     "ename": "NameError",
     "evalue": "name 'GoogleDrive' is not defined",
     "output_type": "error",
     "traceback": [
      "\u001b[0;31m---------------------------------------------------------------------------\u001b[0m",
      "\u001b[0;31mNameError\u001b[0m                                 Traceback (most recent call last)",
      "\u001b[0;32m<ipython-input-4-6cf7fa89f5e8>\u001b[0m in \u001b[0;36m<module>\u001b[0;34m\u001b[0m\n\u001b[0;32m----> 1\u001b[0;31m \u001b[0mdrive\u001b[0m \u001b[0;34m=\u001b[0m \u001b[0mGoogleDrive\u001b[0m\u001b[0;34m(\u001b[0m\u001b[0mgauth\u001b[0m\u001b[0;34m)\u001b[0m\u001b[0;34m\u001b[0m\u001b[0;34m\u001b[0m\u001b[0m\n\u001b[0m",
      "\u001b[0;31mNameError\u001b[0m: name 'GoogleDrive' is not defined"
     ]
    }
   ],
   "source": [
    "drive = GoogleDrive(gauth)"
   ]
  },
  {
   "cell_type": "code",
   "execution_count": 7,
   "id": "e12130dc",
   "metadata": {},
   "outputs": [
    {
     "name": "stdout",
     "output_type": "stream",
     "text": [
      "Usage: uvicorn [OPTIONS] APP\r\n",
      "Try 'uvicorn --help' for help.\r\n",
      "\r\n",
      "Error: no such option: -r\r\n"
     ]
    }
   ],
   "source": [
    "!uvicorn api.fast:app -reload"
   ]
  },
  {
   "cell_type": "code",
   "execution_count": 11,
   "id": "61db852a",
   "metadata": {},
   "outputs": [
    {
     "name": "stdout",
     "output_type": "stream",
     "text": [
      "\u001b[32mINFO\u001b[0m:     Uvicorn running on \u001b[1mhttp://127.0.0.1:8000\u001b[0m (Press CTRL+C to quit)\n",
      "\u001b[32mINFO\u001b[0m:     Started reloader process [\u001b[36m\u001b[1m93130\u001b[0m] using \u001b[36m\u001b[1mstatreload\u001b[0m\n",
      "\u001b[32mINFO\u001b[0m:     Started server process [\u001b[36m93132\u001b[0m]\n",
      "\u001b[32mINFO\u001b[0m:     Waiting for application startup.\n",
      "\u001b[32mINFO\u001b[0m:     Application startup complete.\n",
      "\u001b[32mINFO\u001b[0m:     127.0.0.1:59922 - \"\u001b[1mGET /docs HTTP/1.1\u001b[0m\" \u001b[32m200 OK\u001b[0m\n",
      "\u001b[32mINFO\u001b[0m:     127.0.0.1:59922 - \"\u001b[1mGET /openapi.json HTTP/1.1\u001b[0m\" \u001b[32m200 OK\u001b[0m\n",
      "^C\n",
      "\u001b[32mINFO\u001b[0m:     Shutting down\n",
      "\u001b[32mINFO\u001b[0m:     Waiting for application shutdown.\n",
      "\u001b[32mINFO\u001b[0m:     Application shutdown complete.\n",
      "\u001b[32mINFO\u001b[0m:     Finished server process [\u001b[36m93132\u001b[0m]\n"
     ]
    }
   ],
   "source": [
    "!uvicorn api.fast:app --reload"
   ]
  },
  {
   "cell_type": "code",
   "execution_count": 72,
   "id": "9a88a0a7",
   "metadata": {},
   "outputs": [
    {
     "name": "stdout",
     "output_type": "stream",
     "text": [
      "The autoreload extension is already loaded. To reload it, use:\n",
      "  %reload_ext autoreload\n"
     ]
    }
   ],
   "source": [
    "%load_ext autoreload\n",
    "%autoreload 2\n",
    "import pandas as pd"
   ]
  },
  {
   "cell_type": "code",
   "execution_count": 24,
   "id": "e7e18d3b",
   "metadata": {},
   "outputs": [],
   "source": [
    "data = {\n",
    "    \"title\": \"Israel-Gaza, Spa shootings, Obesity drugs: Your Tuesday Evening Briefing\",\n",
    "    \"author\": \"Whet Moser and Jade-Snow Joachim\",\n",
    "    \"source\": \"New York Times\",\n",
    "    \"url\": \"https://www.nytimes.com/2021/05/11/briefing/israel-gaza-spa-shootings-obesity-drugs.html\",\n",
    "    \"publishedAt\": \"2021-05-11\",\n",
    "    \"content\": \"10. And finally, the warm embrace of Asian supermarkets.\\r\\nH Mart began as Han Ah Reum, Korean for an armful, in Woodside, Queens. In 2020, its 105 locations sold $1.5 billion worth of kimchi, banchanâ€¦ [+837 chars]\"\n",
    "  }\n",
    "\n",
    "data_df = pd.DataFrame(data, index=[0])"
   ]
  },
  {
   "cell_type": "code",
   "execution_count": 25,
   "id": "c7819a9e",
   "metadata": {
    "scrolled": true
   },
   "outputs": [
    {
     "data": {
      "text/html": [
       "<div>\n",
       "<style scoped>\n",
       "    .dataframe tbody tr th:only-of-type {\n",
       "        vertical-align: middle;\n",
       "    }\n",
       "\n",
       "    .dataframe tbody tr th {\n",
       "        vertical-align: top;\n",
       "    }\n",
       "\n",
       "    .dataframe thead th {\n",
       "        text-align: right;\n",
       "    }\n",
       "</style>\n",
       "<table border=\"1\" class=\"dataframe\">\n",
       "  <thead>\n",
       "    <tr style=\"text-align: right;\">\n",
       "      <th></th>\n",
       "      <th>title</th>\n",
       "      <th>author</th>\n",
       "      <th>source</th>\n",
       "      <th>url</th>\n",
       "      <th>publishedAt</th>\n",
       "      <th>content</th>\n",
       "    </tr>\n",
       "  </thead>\n",
       "  <tbody>\n",
       "    <tr>\n",
       "      <th>0</th>\n",
       "      <td>Israel-Gaza, Spa shootings, Obesity drugs: You...</td>\n",
       "      <td>Whet Moser and Jade-Snow Joachim</td>\n",
       "      <td>New York Times</td>\n",
       "      <td>https://www.nytimes.com/2021/05/11/briefing/is...</td>\n",
       "      <td>2021-05-11</td>\n",
       "      <td>10. And finally, the warm embrace of Asian sup...</td>\n",
       "    </tr>\n",
       "  </tbody>\n",
       "</table>\n",
       "</div>"
      ],
      "text/plain": [
       "                                               title  ...                                            content\n",
       "0  Israel-Gaza, Spa shootings, Obesity drugs: You...  ...  10. And finally, the warm embrace of Asian sup...\n",
       "\n",
       "[1 rows x 6 columns]"
      ]
     },
     "execution_count": 25,
     "metadata": {},
     "output_type": "execute_result"
    }
   ],
   "source": [
    "data_df.head()"
   ]
  },
  {
   "cell_type": "code",
   "execution_count": 73,
   "id": "a86cbf10",
   "metadata": {},
   "outputs": [],
   "source": [
    "import os\n",
    "from google.cloud import storage\n",
    "\n",
    "os.environ[\"GOOGLE_APPLICATION_CREDENTIALS\"]='../api/wagon-bootcamp-311206-ca90fdd74d5b.json'\n",
    "\n",
    "# Loading the model\n",
    "client = storage.Client()\n",
    "path = \"gs://big_picture_model/model\"\n",
    "model = Classifier()"
   ]
  },
  {
   "cell_type": "code",
   "execution_count": 74,
   "id": "a05f129c",
   "metadata": {},
   "outputs": [
    {
     "ename": "FileNotFoundError",
     "evalue": "[Errno 2] No such file or directory: 'gs://big_picture_model/model/state.pkl'",
     "output_type": "error",
     "traceback": [
      "\u001b[0;31m---------------------------------------------------------------------------\u001b[0m",
      "\u001b[0;31mFileNotFoundError\u001b[0m                         Traceback (most recent call last)",
      "\u001b[0;32m<ipython-input-74-7775ddb11a21>\u001b[0m in \u001b[0;36m<module>\u001b[0;34m\u001b[0m\n\u001b[1;32m      1\u001b[0m \u001b[0;32mfrom\u001b[0m \u001b[0mbig_picture\u001b[0m\u001b[0;34m.\u001b[0m\u001b[0mclassifier\u001b[0m \u001b[0;32mimport\u001b[0m \u001b[0mClassifier\u001b[0m\u001b[0;34m\u001b[0m\u001b[0;34m\u001b[0m\u001b[0m\n\u001b[0;32m----> 2\u001b[0;31m \u001b[0mmodel\u001b[0m\u001b[0;34m.\u001b[0m\u001b[0mload\u001b[0m\u001b[0;34m(\u001b[0m\u001b[0mpath\u001b[0m\u001b[0;34m)\u001b[0m\u001b[0;34m\u001b[0m\u001b[0;34m\u001b[0m\u001b[0m\n\u001b[0m",
      "\u001b[0;32m~/.pyenv/versions/3.8.6/envs/lewagon/lib/python3.8/site-packages/big_picture/classifier.py\u001b[0m in \u001b[0;36mload\u001b[0;34m(self, path)\u001b[0m\n\u001b[1;32m    152\u001b[0m         \u001b[0mstate_path\u001b[0m \u001b[0;34m=\u001b[0m \u001b[0mos\u001b[0m\u001b[0;34m.\u001b[0m\u001b[0mpath\u001b[0m\u001b[0;34m.\u001b[0m\u001b[0mjoin\u001b[0m\u001b[0;34m(\u001b[0m\u001b[0mpath\u001b[0m\u001b[0;34m,\u001b[0m \u001b[0;34m'state.pkl'\u001b[0m\u001b[0;34m)\u001b[0m\u001b[0;34m\u001b[0m\u001b[0;34m\u001b[0m\u001b[0m\n\u001b[1;32m    153\u001b[0m \u001b[0;34m\u001b[0m\u001b[0m\n\u001b[0;32m--> 154\u001b[0;31m         \u001b[0;32mwith\u001b[0m \u001b[0mopen\u001b[0m\u001b[0;34m(\u001b[0m\u001b[0mstate_path\u001b[0m\u001b[0;34m,\u001b[0m \u001b[0;34m'rb'\u001b[0m\u001b[0;34m)\u001b[0m \u001b[0;32mas\u001b[0m \u001b[0mfp\u001b[0m\u001b[0;34m:\u001b[0m\u001b[0;34m\u001b[0m\u001b[0;34m\u001b[0m\u001b[0m\n\u001b[0m\u001b[1;32m    155\u001b[0m             \u001b[0mstate\u001b[0m \u001b[0;34m=\u001b[0m \u001b[0mpickle\u001b[0m\u001b[0;34m.\u001b[0m\u001b[0mload\u001b[0m\u001b[0;34m(\u001b[0m\u001b[0mfp\u001b[0m\u001b[0;34m)\u001b[0m\u001b[0;34m\u001b[0m\u001b[0;34m\u001b[0m\u001b[0m\n\u001b[1;32m    156\u001b[0m \u001b[0;34m\u001b[0m\u001b[0m\n",
      "\u001b[0;31mFileNotFoundError\u001b[0m: [Errno 2] No such file or directory: 'gs://big_picture_model/model/state.pkl'"
     ]
    }
   ],
   "source": [
    "from big_picture.classifier import Classifier\n",
    "model.load(path)"
   ]
  },
  {
   "cell_type": "code",
   "execution_count": 27,
   "id": "a500755d",
   "metadata": {},
   "outputs": [
    {
     "data": {
      "text/plain": [
       "{'Activism': <big_picture.label.Label at 0x1d556f940>,\n",
       " 'Business': <big_picture.label.Label at 0x344fa92e0>,\n",
       " 'Crime': <big_picture.label.Label at 0x304836970>,\n",
       " 'Culture': <big_picture.label.Label at 0x365aa2310>,\n",
       " 'Education': <big_picture.label.Label at 0x3fa0d8610>,\n",
       " 'Entertainment': <big_picture.label.Label at 0x3fa24ebe0>,\n",
       " 'Health': <big_picture.label.Label at 0x45b7e0ac0>,\n",
       " 'Media': <big_picture.label.Label at 0x4bbff53d0>,\n",
       " 'Other': <big_picture.label.Label at 0x4bc19e040>,\n",
       " 'Politics': <big_picture.label.Label at 0x304b9eaf0>,\n",
       " 'Religion': <big_picture.label.Label at 0x354b4ee50>,\n",
       " 'Science': <big_picture.label.Label at 0x365d68760>,\n",
       " 'Sports': <big_picture.label.Label at 0x385fbe5e0>,\n",
       " 'Technology': <big_picture.label.Label at 0x3efe6adf0>,\n",
       " 'Trends': <big_picture.label.Label at 0x3f9842730>,\n",
       " 'World News': <big_picture.label.Label at 0x45a3f7550>}"
      ]
     },
     "execution_count": 27,
     "metadata": {},
     "output_type": "execute_result"
    }
   ],
   "source": [
    "model.labels"
   ]
  },
  {
   "cell_type": "code",
   "execution_count": 29,
   "id": "093f0c2f",
   "metadata": {},
   "outputs": [
    {
     "name": "stdout",
     "output_type": "stream",
     "text": [
      "Preparing pre_processed_text column\n",
      "Lowering the cases\n",
      "-------------------------\n",
      "Minor pre-processing done\n",
      "-------------------------\n",
      "Counting numbers\n",
      "Revealing emotions\n",
      "Analyzing vocabulary bank account!\n",
      "-------------------------\n",
      "New features added\n",
      "-------------------------\n",
      "Removing digits\n",
      "Removing pesky dots\n",
      "Disabling emojis\n",
      "-------------------------\n",
      "Excess data removed\n",
      "-------------------------\n",
      "Tokenizing\n",
      "Checking for stopwords\n",
      "Lematizing, yummy!\n",
      "-------------------------\n",
      "Data pre-processed\n",
      "-------------------------\n"
     ]
    },
    {
     "data": {
      "application/vnd.jupyter.widget-view+json": {
       "model_id": "958248c9802b48ffa2923c1654f88238",
       "version_major": 2,
       "version_minor": 0
      },
      "text/plain": [
       "Batches:   0%|          | 0/1 [00:00<?, ?it/s]"
      ]
     },
     "metadata": {},
     "output_type": "display_data"
    },
    {
     "name": "stdout",
     "output_type": "stream",
     "text": [
      "[[5.1903799e-13 3.2084368e-23 1.5150128e-03 4.8341320e-08 2.1188267e-09\n",
      "  2.0445427e-07 2.7785841e-11 2.7970291e-06 6.1383737e-10 2.9471430e-08\n",
      "  9.9841928e-01 6.3193032e-17 5.8974860e-05 2.3483399e-07 5.2191631e-08\n",
      "  3.3561819e-06]]\n",
      "10\n",
      "['Religion']\n"
     ]
    },
    {
     "name": "stderr",
     "output_type": "stream",
     "text": [
      "Some layers from the model checkpoint at distilbert-base-uncased-finetuned-sst-2-english were not used when initializing TFDistilBertForSequenceClassification: ['dropout_19']\n",
      "- This IS expected if you are initializing TFDistilBertForSequenceClassification from the checkpoint of a model trained on another task or with another architecture (e.g. initializing a BertForSequenceClassification model from a BertForPreTraining model).\n",
      "- This IS NOT expected if you are initializing TFDistilBertForSequenceClassification from the checkpoint of a model that you expect to be exactly identical (initializing a BertForSequenceClassification model from a BertForSequenceClassification model).\n",
      "Some layers of TFDistilBertForSequenceClassification were not initialized from the model checkpoint at distilbert-base-uncased-finetuned-sst-2-english and are newly initialized: ['dropout_125']\n",
      "You should probably TRAIN this model on a down-stream task to be able to use it for predictions and inference.\n",
      "/Users/josefreitas/.pyenv/versions/3.8.6/envs/lewagon/lib/python3.8/site-packages/big_picture/classifier.py:267: SettingWithCopyWarning: \n",
      "A value is trying to be set on a copy of a slice from a DataFrame.\n",
      "Try using .loc[row_indexer,col_indexer] = value instead\n",
      "\n",
      "See the caveats in the documentation: https://pandas.pydata.org/pandas-docs/stable/user_guide/indexing.html#returning-a-view-versus-a-copy\n",
      "  output_df[['SA']] = sa[0][1]-sa[0][0]\n",
      "/Users/josefreitas/.pyenv/versions/3.8.6/envs/lewagon/lib/python3.8/site-packages/pandas/core/indexing.py:1720: SettingWithCopyWarning: \n",
      "A value is trying to be set on a copy of a slice from a DataFrame.\n",
      "Try using .loc[row_indexer,col_indexer] = value instead\n",
      "\n",
      "See the caveats in the documentation: https://pandas.pydata.org/pandas-docs/stable/user_guide/indexing.html#returning-a-view-versus-a-copy\n",
      "  self._setitem_single_column(loc, value, pi)\n"
     ]
    }
   ],
   "source": [
    "prediction = model.predict(data_df, source='prepared', params={'cat_mapping': False}, printed=True)"
   ]
  },
  {
   "cell_type": "code",
   "execution_count": 45,
   "id": "0f915378",
   "metadata": {},
   "outputs": [
    {
     "data": {
      "text/plain": [
       "<big_picture.clusters.Cluster at 0x365d44880>"
      ]
     },
     "execution_count": 45,
     "metadata": {},
     "output_type": "execute_result"
    }
   ],
   "source": [
    "for key in prediction.keys():\n",
    "    this_cluster = prediction[key]\n"
   ]
  },
  {
   "cell_type": "code",
   "execution_count": 59,
   "id": "e7d964c3",
   "metadata": {},
   "outputs": [],
   "source": [
    "res_dict = {'data': this_cluster.df,\n",
    "            'topic': this_cluster.topic,\n",
    "            'word_cloud': this_cluster.show_wordcloud}"
   ]
  },
  {
   "cell_type": "code",
   "execution_count": 58,
   "id": "0cb6f77c",
   "metadata": {},
   "outputs": [],
   "source": [
    "res_dict['word_cloud']"
   ]
  },
  {
   "cell_type": "code",
   "execution_count": 60,
   "id": "9ad1891b",
   "metadata": {},
   "outputs": [
    {
     "data": {
      "text/plain": [
       "dict"
      ]
     },
     "execution_count": 60,
     "metadata": {},
     "output_type": "execute_result"
    }
   ],
   "source": [
    "type(res_dict)"
   ]
  },
  {
   "cell_type": "code",
   "execution_count": 62,
   "id": "d05f93f3",
   "metadata": {},
   "outputs": [
    {
     "data": {
      "text/html": [
       "<div>\n",
       "<style scoped>\n",
       "    .dataframe tbody tr th:only-of-type {\n",
       "        vertical-align: middle;\n",
       "    }\n",
       "\n",
       "    .dataframe tbody tr th {\n",
       "        vertical-align: top;\n",
       "    }\n",
       "\n",
       "    .dataframe thead th {\n",
       "        text-align: right;\n",
       "    }\n",
       "</style>\n",
       "<table border=\"1\" class=\"dataframe\">\n",
       "  <thead>\n",
       "    <tr style=\"text-align: right;\">\n",
       "      <th></th>\n",
       "      <th>title</th>\n",
       "      <th>url</th>\n",
       "      <th>publishedAt</th>\n",
       "      <th>author</th>\n",
       "      <th>source</th>\n",
       "      <th>SA</th>\n",
       "    </tr>\n",
       "  </thead>\n",
       "  <tbody>\n",
       "    <tr>\n",
       "      <th>0</th>\n",
       "      <td>Israel-Gaza, Spa shootings, Obesity drugs: You...</td>\n",
       "      <td>https://www.nytimes.com/2021/05/11/briefing/is...</td>\n",
       "      <td>2021-05-11</td>\n",
       "      <td>Whet Moser and Jade-Snow Joachim</td>\n",
       "      <td>New York Times</td>\n",
       "      <td>0.995947</td>\n",
       "    </tr>\n",
       "    <tr>\n",
       "      <th>0</th>\n",
       "      <td>Myanmar Bishops Call for a Halt to Attacks on ...</td>\n",
       "      <td>NaN</td>\n",
       "      <td>NaN</td>\n",
       "      <td>NaN</td>\n",
       "      <td>NaN</td>\n",
       "      <td>-0.959831</td>\n",
       "    </tr>\n",
       "    <tr>\n",
       "      <th>1</th>\n",
       "      <td>Swiss reject law to help country meet Paris ca...</td>\n",
       "      <td>NaN</td>\n",
       "      <td>NaN</td>\n",
       "      <td>NaN</td>\n",
       "      <td>NaN</td>\n",
       "      <td>-0.953472</td>\n",
       "    </tr>\n",
       "    <tr>\n",
       "      <th>2</th>\n",
       "      <td>Netanyahu ousted as Israeli lawmakers approve ...</td>\n",
       "      <td>NaN</td>\n",
       "      <td>NaN</td>\n",
       "      <td>NaN</td>\n",
       "      <td>NaN</td>\n",
       "      <td>-0.940508</td>\n",
       "    </tr>\n",
       "    <tr>\n",
       "      <th>3</th>\n",
       "      <td>Ziona Chana, patriarch of the largest family i...</td>\n",
       "      <td>NaN</td>\n",
       "      <td>NaN</td>\n",
       "      <td>NaN</td>\n",
       "      <td>NaN</td>\n",
       "      <td>-0.956991</td>\n",
       "    </tr>\n",
       "    <tr>\n",
       "      <th>4</th>\n",
       "      <td>Israel Set To Swear in New Government, Ending ...</td>\n",
       "      <td>NaN</td>\n",
       "      <td>NaN</td>\n",
       "      <td>NaN</td>\n",
       "      <td>NaN</td>\n",
       "      <td>-0.974242</td>\n",
       "    </tr>\n",
       "    <tr>\n",
       "      <th>5</th>\n",
       "      <td>Nurses in Denmark to Go on Strike from Saturda...</td>\n",
       "      <td>NaN</td>\n",
       "      <td>NaN</td>\n",
       "      <td>NaN</td>\n",
       "      <td>NaN</td>\n",
       "      <td>-0.997245</td>\n",
       "    </tr>\n",
       "    <tr>\n",
       "      <th>6</th>\n",
       "      <td>The G7 Summit Ends With Addressing COVID, Clim...</td>\n",
       "      <td>NaN</td>\n",
       "      <td>NaN</td>\n",
       "      <td>NaN</td>\n",
       "      <td>NaN</td>\n",
       "      <td>0.911103</td>\n",
       "    </tr>\n",
       "    <tr>\n",
       "      <th>7</th>\n",
       "      <td>PM’s ethics watchdog should have final say on ...</td>\n",
       "      <td>NaN</td>\n",
       "      <td>NaN</td>\n",
       "      <td>NaN</td>\n",
       "      <td>NaN</td>\n",
       "      <td>-0.986289</td>\n",
       "    </tr>\n",
       "    <tr>\n",
       "      <th>8</th>\n",
       "      <td>Sr. Lucy finds Vatican order ‘mysterious’</td>\n",
       "      <td>NaN</td>\n",
       "      <td>NaN</td>\n",
       "      <td>NaN</td>\n",
       "      <td>NaN</td>\n",
       "      <td>-0.963643</td>\n",
       "    </tr>\n",
       "    <tr>\n",
       "      <th>9</th>\n",
       "      <td>Misuse of donations of devotees is insult to f...</td>\n",
       "      <td>NaN</td>\n",
       "      <td>NaN</td>\n",
       "      <td>NaN</td>\n",
       "      <td>NaN</td>\n",
       "      <td>-0.996406</td>\n",
       "    </tr>\n",
       "    <tr>\n",
       "      <th>10</th>\n",
       "      <td>Government to discuss mica plight on eve of Du...</td>\n",
       "      <td>NaN</td>\n",
       "      <td>NaN</td>\n",
       "      <td>NaN</td>\n",
       "      <td>NaN</td>\n",
       "      <td>-0.997507</td>\n",
       "    </tr>\n",
       "    <tr>\n",
       "      <th>11</th>\n",
       "      <td>Martin Bashir: BBC religion editor leaves the ...</td>\n",
       "      <td>NaN</td>\n",
       "      <td>NaN</td>\n",
       "      <td>NaN</td>\n",
       "      <td>NaN</td>\n",
       "      <td>-0.985228</td>\n",
       "    </tr>\n",
       "    <tr>\n",
       "      <th>12</th>\n",
       "      <td>New Saint John police chief is a retired OPP s...</td>\n",
       "      <td>NaN</td>\n",
       "      <td>NaN</td>\n",
       "      <td>NaN</td>\n",
       "      <td>NaN</td>\n",
       "      <td>-0.717217</td>\n",
       "    </tr>\n",
       "    <tr>\n",
       "      <th>13</th>\n",
       "      <td>Judge orders Church of God doors locked in Ayl...</td>\n",
       "      <td>NaN</td>\n",
       "      <td>NaN</td>\n",
       "      <td>NaN</td>\n",
       "      <td>NaN</td>\n",
       "      <td>-0.973247</td>\n",
       "    </tr>\n",
       "    <tr>\n",
       "      <th>14</th>\n",
       "      <td>Thieves steal £20k bronze crucifix from church...</td>\n",
       "      <td>NaN</td>\n",
       "      <td>NaN</td>\n",
       "      <td>NaN</td>\n",
       "      <td>NaN</td>\n",
       "      <td>-0.945292</td>\n",
       "    </tr>\n",
       "    <tr>\n",
       "      <th>15</th>\n",
       "      <td>Kashmir police arrest graffiti artist over Pal...</td>\n",
       "      <td>NaN</td>\n",
       "      <td>NaN</td>\n",
       "      <td>NaN</td>\n",
       "      <td>NaN</td>\n",
       "      <td>-0.984609</td>\n",
       "    </tr>\n",
       "    <tr>\n",
       "      <th>16</th>\n",
       "      <td>Dr. Michael Youseff: America’s ‘Crisis’ of Tru...</td>\n",
       "      <td>NaN</td>\n",
       "      <td>NaN</td>\n",
       "      <td>NaN</td>\n",
       "      <td>NaN</td>\n",
       "      <td>-0.889784</td>\n",
       "    </tr>\n",
       "    <tr>\n",
       "      <th>17</th>\n",
       "      <td>News24.com | Dozens hurt in Israeli synagogue ...</td>\n",
       "      <td>NaN</td>\n",
       "      <td>NaN</td>\n",
       "      <td>NaN</td>\n",
       "      <td>NaN</td>\n",
       "      <td>-0.998634</td>\n",
       "    </tr>\n",
       "    <tr>\n",
       "      <th>18</th>\n",
       "      <td>V.A. Deshpande, retired Dean of CAVA, no more</td>\n",
       "      <td>NaN</td>\n",
       "      <td>NaN</td>\n",
       "      <td>NaN</td>\n",
       "      <td>NaN</td>\n",
       "      <td>-0.990264</td>\n",
       "    </tr>\n",
       "    <tr>\n",
       "      <th>19</th>\n",
       "      <td>Israeli synagogue: At least 2 dead, over 150 i...</td>\n",
       "      <td>NaN</td>\n",
       "      <td>NaN</td>\n",
       "      <td>NaN</td>\n",
       "      <td>NaN</td>\n",
       "      <td>-0.981558</td>\n",
       "    </tr>\n",
       "  </tbody>\n",
       "</table>\n",
       "</div>"
      ],
      "text/plain": [
       "                                                title  ...        SA\n",
       "0   Israel-Gaza, Spa shootings, Obesity drugs: You...  ...  0.995947\n",
       "0   Myanmar Bishops Call for a Halt to Attacks on ...  ... -0.959831\n",
       "1   Swiss reject law to help country meet Paris ca...  ... -0.953472\n",
       "2   Netanyahu ousted as Israeli lawmakers approve ...  ... -0.940508\n",
       "3   Ziona Chana, patriarch of the largest family i...  ... -0.956991\n",
       "4   Israel Set To Swear in New Government, Ending ...  ... -0.974242\n",
       "5   Nurses in Denmark to Go on Strike from Saturda...  ... -0.997245\n",
       "6   The G7 Summit Ends With Addressing COVID, Clim...  ...  0.911103\n",
       "7   PM’s ethics watchdog should have final say on ...  ... -0.986289\n",
       "8           Sr. Lucy finds Vatican order ‘mysterious’  ... -0.963643\n",
       "9   Misuse of donations of devotees is insult to f...  ... -0.996406\n",
       "10  Government to discuss mica plight on eve of Du...  ... -0.997507\n",
       "11  Martin Bashir: BBC religion editor leaves the ...  ... -0.985228\n",
       "12  New Saint John police chief is a retired OPP s...  ... -0.717217\n",
       "13  Judge orders Church of God doors locked in Ayl...  ... -0.973247\n",
       "14  Thieves steal £20k bronze crucifix from church...  ... -0.945292\n",
       "15  Kashmir police arrest graffiti artist over Pal...  ... -0.984609\n",
       "16  Dr. Michael Youseff: America’s ‘Crisis’ of Tru...  ... -0.889784\n",
       "17  News24.com | Dozens hurt in Israeli synagogue ...  ... -0.998634\n",
       "18      V.A. Deshpande, retired Dean of CAVA, no more  ... -0.990264\n",
       "19  Israeli synagogue: At least 2 dead, over 150 i...  ... -0.981558\n",
       "\n",
       "[21 rows x 6 columns]"
      ]
     },
     "execution_count": 62,
     "metadata": {},
     "output_type": "execute_result"
    }
   ],
   "source": [
    "this_cluster.df"
   ]
  },
  {
   "cell_type": "code",
   "execution_count": 63,
   "id": "34c14fff",
   "metadata": {},
   "outputs": [
    {
     "data": {
      "text/plain": [
       "list"
      ]
     },
     "execution_count": 63,
     "metadata": {},
     "output_type": "execute_result"
    }
   ],
   "source": [
    "type(this_cluster.topic)"
   ]
  },
  {
   "cell_type": "code",
   "execution_count": 8,
   "id": "0a54d701",
   "metadata": {},
   "outputs": [],
   "source": [
    "import requests"
   ]
  },
  {
   "cell_type": "code",
   "execution_count": 9,
   "id": "477c92b5",
   "metadata": {},
   "outputs": [],
   "source": [
    "url = \"https://api-s4zpk52g3a-ew.a.run.app\""
   ]
  },
  {
   "cell_type": "code",
   "execution_count": 11,
   "id": "e4104e24",
   "metadata": {},
   "outputs": [],
   "source": [
    "response = requests.get(url + \"/search\", params={'query': 'trump'})"
   ]
  },
  {
   "cell_type": "code",
   "execution_count": 14,
   "id": "669d1474",
   "metadata": {},
   "outputs": [],
   "source": [
    "data = response.json()['0']"
   ]
  },
  {
   "cell_type": "code",
   "execution_count": 23,
   "id": "83fcfdd3",
   "metadata": {},
   "outputs": [],
   "source": [
    "example = {\n",
    "    \"title\": \"Israel-Gaza, Spa shootings, Obesity drugs: Your Tuesday Evening Briefing\",\n",
    "    \"author\": \"Whet Moser and Jade-Snow Joachim\",\n",
    "    \"source\": \"New York Times\",\n",
    "    \"description\": \"random desc\",\n",
    "    \"url\": \"https://www.nytimes.com/2021/05/11/briefing/israel-gaza-spa-shootings-obesity-drugs.html\",\n",
    "    \"publishedAt\": \"2021-05-11\",\n",
    "    \"content\": \"10. And finally, the warm embrace of Asian supermarkets.\\r\\nH Mart began as Han Ah Reum, Korean for an armful, in Woodside, Queens. In 2020, its 105 locations sold $1.5 billion worth of kimchi, banchanâ€¦ [+837 chars]\"\n",
    "  }"
   ]
  },
  {
   "cell_type": "code",
   "execution_count": 24,
   "id": "f43586c5",
   "metadata": {},
   "outputs": [],
   "source": [
    "response = requests.post(url + '/predict', params=example)"
   ]
  },
  {
   "cell_type": "code",
   "execution_count": 25,
   "id": "56038331",
   "metadata": {},
   "outputs": [
    {
     "data": {
      "text/plain": [
       "{'detail': [{'loc': ['body'],\n",
       "   'msg': 'field required',\n",
       "   'type': 'value_error.missing'}]}"
      ]
     },
     "execution_count": 25,
     "metadata": {},
     "output_type": "execute_result"
    }
   ],
   "source": [
    "response.json()"
   ]
  },
  {
   "cell_type": "code",
   "execution_count": null,
   "id": "69b749e9",
   "metadata": {},
   "outputs": [],
   "source": []
  }
 ],
 "metadata": {
  "kernelspec": {
   "display_name": "Python 3",
   "language": "python",
   "name": "python3"
  },
  "language_info": {
   "codemirror_mode": {
    "name": "ipython",
    "version": 3
   },
   "file_extension": ".py",
   "mimetype": "text/x-python",
   "name": "python",
   "nbconvert_exporter": "python",
   "pygments_lexer": "ipython3",
   "version": "3.8.6"
  },
  "toc": {
   "base_numbering": 1,
   "nav_menu": {},
   "number_sections": true,
   "sideBar": true,
   "skip_h1_title": false,
   "title_cell": "Table of Contents",
   "title_sidebar": "Contents",
   "toc_cell": false,
   "toc_position": {},
   "toc_section_display": true,
   "toc_window_display": false
  }
 },
 "nbformat": 4,
 "nbformat_minor": 5
}
