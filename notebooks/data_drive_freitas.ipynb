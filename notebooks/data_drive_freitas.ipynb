{
 "cells": [
  {
   "cell_type": "code",
   "execution_count": 1,
   "id": "34d0ce6b",
   "metadata": {},
   "outputs": [
    {
     "name": "stdout",
     "output_type": "stream",
     "text": [
      "Collecting pydrive\n",
      "  Downloading PyDrive-1.3.1.tar.gz (987 kB)\n",
      "\u001b[K     |████████████████████████████████| 987 kB 2.7 MB/s eta 0:00:01\n",
      "\u001b[?25hCollecting google-api-python-client>=1.2\n",
      "  Downloading google_api_python_client-2.9.0-py2.py3-none-any.whl (7.0 MB)\n",
      "\u001b[K     |████████████████████████████████| 7.0 MB 9.3 MB/s eta 0:00:01\n",
      "\u001b[?25hRequirement already satisfied: oauth2client>=4.0.0 in /Users/josefreitas/.pyenv/versions/3.8.6/envs/lewagon/lib/python3.8/site-packages (from pydrive) (4.1.3)\n",
      "Requirement already satisfied: PyYAML>=3.0 in /Users/josefreitas/.pyenv/versions/3.8.6/envs/lewagon/lib/python3.8/site-packages (from pydrive) (5.4.1)\n",
      "Collecting uritemplate<4dev,>=3.0.0\n",
      "  Downloading uritemplate-3.0.1-py2.py3-none-any.whl (15 kB)\n",
      "Collecting google-auth-httplib2>=0.1.0\n",
      "  Downloading google_auth_httplib2-0.1.0-py2.py3-none-any.whl (9.3 kB)\n",
      "Requirement already satisfied: google-auth<2dev,>=1.16.0 in /Users/josefreitas/.pyenv/versions/3.8.6/envs/lewagon/lib/python3.8/site-packages (from google-api-python-client>=1.2->pydrive) (1.28.1)\n",
      "Requirement already satisfied: six<2dev,>=1.13.0 in /Users/josefreitas/.pyenv/versions/3.8.6/envs/lewagon/lib/python3.8/site-packages (from google-api-python-client>=1.2->pydrive) (1.15.0)\n",
      "Requirement already satisfied: httplib2<1dev,>=0.15.0 in /Users/josefreitas/.pyenv/versions/3.8.6/envs/lewagon/lib/python3.8/site-packages (from google-api-python-client>=1.2->pydrive) (0.19.1)\n",
      "Requirement already satisfied: google-api-core<2dev,>=1.21.0 in /Users/josefreitas/.pyenv/versions/3.8.6/envs/lewagon/lib/python3.8/site-packages (from google-api-python-client>=1.2->pydrive) (1.28.0)\n",
      "Requirement already satisfied: requests<3.0.0dev,>=2.18.0 in /Users/josefreitas/.pyenv/versions/3.8.6/envs/lewagon/lib/python3.8/site-packages (from google-api-core<2dev,>=1.21.0->google-api-python-client>=1.2->pydrive) (2.25.1)\n",
      "Requirement already satisfied: googleapis-common-protos<2.0dev,>=1.6.0 in /Users/josefreitas/.pyenv/versions/3.8.6/envs/lewagon/lib/python3.8/site-packages (from google-api-core<2dev,>=1.21.0->google-api-python-client>=1.2->pydrive) (1.53.0)\n",
      "Requirement already satisfied: packaging>=14.3 in /Users/josefreitas/.pyenv/versions/3.8.6/envs/lewagon/lib/python3.8/site-packages (from google-api-core<2dev,>=1.21.0->google-api-python-client>=1.2->pydrive) (20.9)\n",
      "Requirement already satisfied: pytz in /Users/josefreitas/.pyenv/versions/3.8.6/envs/lewagon/lib/python3.8/site-packages (from google-api-core<2dev,>=1.21.0->google-api-python-client>=1.2->pydrive) (2021.1)\n",
      "Requirement already satisfied: protobuf>=3.12.0 in /Users/josefreitas/.pyenv/versions/3.8.6/envs/lewagon/lib/python3.8/site-packages (from google-api-core<2dev,>=1.21.0->google-api-python-client>=1.2->pydrive) (3.15.8)\n",
      "Requirement already satisfied: setuptools>=40.3.0 in /Users/josefreitas/.pyenv/versions/3.8.6/envs/lewagon/lib/python3.8/site-packages (from google-api-core<2dev,>=1.21.0->google-api-python-client>=1.2->pydrive) (49.2.1)\n",
      "Requirement already satisfied: cachetools<5.0,>=2.0.0 in /Users/josefreitas/.pyenv/versions/3.8.6/envs/lewagon/lib/python3.8/site-packages (from google-auth<2dev,>=1.16.0->google-api-python-client>=1.2->pydrive) (4.2.1)\n",
      "Requirement already satisfied: pyasn1-modules>=0.2.1 in /Users/josefreitas/.pyenv/versions/3.8.6/envs/lewagon/lib/python3.8/site-packages (from google-auth<2dev,>=1.16.0->google-api-python-client>=1.2->pydrive) (0.2.8)\n",
      "Requirement already satisfied: rsa<5,>=3.1.4 in /Users/josefreitas/.pyenv/versions/3.8.6/envs/lewagon/lib/python3.8/site-packages (from google-auth<2dev,>=1.16.0->google-api-python-client>=1.2->pydrive) (4.7.2)\n",
      "Requirement already satisfied: pyparsing<3,>=2.4.2 in /Users/josefreitas/.pyenv/versions/3.8.6/envs/lewagon/lib/python3.8/site-packages (from httplib2<1dev,>=0.15.0->google-api-python-client>=1.2->pydrive) (2.4.7)\n",
      "Requirement already satisfied: pyasn1>=0.1.7 in /Users/josefreitas/.pyenv/versions/3.8.6/envs/lewagon/lib/python3.8/site-packages (from oauth2client>=4.0.0->pydrive) (0.4.8)\n",
      "Requirement already satisfied: idna<3,>=2.5 in /Users/josefreitas/.pyenv/versions/3.8.6/envs/lewagon/lib/python3.8/site-packages (from requests<3.0.0dev,>=2.18.0->google-api-core<2dev,>=1.21.0->google-api-python-client>=1.2->pydrive) (2.10)\n",
      "Requirement already satisfied: urllib3<1.27,>=1.21.1 in /Users/josefreitas/.pyenv/versions/3.8.6/envs/lewagon/lib/python3.8/site-packages (from requests<3.0.0dev,>=2.18.0->google-api-core<2dev,>=1.21.0->google-api-python-client>=1.2->pydrive) (1.26.4)\n",
      "Requirement already satisfied: certifi>=2017.4.17 in /Users/josefreitas/.pyenv/versions/3.8.6/envs/lewagon/lib/python3.8/site-packages (from requests<3.0.0dev,>=2.18.0->google-api-core<2dev,>=1.21.0->google-api-python-client>=1.2->pydrive) (2020.12.5)\n",
      "Requirement already satisfied: chardet<5,>=3.0.2 in /Users/josefreitas/.pyenv/versions/3.8.6/envs/lewagon/lib/python3.8/site-packages (from requests<3.0.0dev,>=2.18.0->google-api-core<2dev,>=1.21.0->google-api-python-client>=1.2->pydrive) (4.0.0)\n",
      "Building wheels for collected packages: pydrive\n",
      "  Building wheel for pydrive (setup.py) ... \u001b[?25ldone\n",
      "\u001b[?25h  Created wheel for pydrive: filename=PyDrive-1.3.1-py3-none-any.whl size=27435 sha256=421ce12b9008c9fc5222df869a42dd174ce020ac81f1ca7a028ad445cd7c82e4\n",
      "  Stored in directory: /Users/josefreitas/Library/Caches/pip/wheels/c6/14/12/ccdcc5d3b41661f360f9c7d9f7ea9d1879a5f85aa4ecc8cc6f\n",
      "Successfully built pydrive\n",
      "Installing collected packages: uritemplate, google-auth-httplib2, google-api-python-client, pydrive\n",
      "Successfully installed google-api-python-client-2.9.0 google-auth-httplib2-0.1.0 pydrive-1.3.1 uritemplate-3.0.1\n",
      "\u001b[33mWARNING: You are using pip version 21.1.1; however, version 21.1.2 is available.\n",
      "You should consider upgrading via the '/Users/josefreitas/.pyenv/versions/3.8.6/envs/lewagon/bin/python3.8 -m pip install --upgrade pip' command.\u001b[0m\n"
     ]
    }
   ],
   "source": [
    "!pip install pydrive"
   ]
  },
  {
   "cell_type": "code",
   "execution_count": 6,
   "id": "6540c8a2",
   "metadata": {},
   "outputs": [],
   "source": [
    "import pydrive"
   ]
  },
  {
   "cell_type": "code",
   "execution_count": 3,
   "id": "20002253",
   "metadata": {},
   "outputs": [
    {
     "ename": "NameError",
     "evalue": "name 'gauth' is not defined",
     "output_type": "error",
     "traceback": [
      "\u001b[0;31m---------------------------------------------------------------------------\u001b[0m",
      "\u001b[0;31mNameError\u001b[0m                                 Traceback (most recent call last)",
      "\u001b[0;32m<ipython-input-3-792f41ab7318>\u001b[0m in \u001b[0;36m<module>\u001b[0;34m\u001b[0m\n\u001b[0;32m----> 1\u001b[0;31m \u001b[0mgauth\u001b[0m\u001b[0;34m.\u001b[0m\u001b[0mLocalWebserverAuth\u001b[0m\u001b[0;34m(\u001b[0m\u001b[0;34m)\u001b[0m\u001b[0;34m\u001b[0m\u001b[0;34m\u001b[0m\u001b[0m\n\u001b[0m",
      "\u001b[0;31mNameError\u001b[0m: name 'gauth' is not defined"
     ]
    }
   ],
   "source": [
    "gauth.LocalWebserverAuth()"
   ]
  },
  {
   "cell_type": "code",
   "execution_count": 4,
   "id": "23b6388b",
   "metadata": {},
   "outputs": [
    {
     "ename": "NameError",
     "evalue": "name 'GoogleDrive' is not defined",
     "output_type": "error",
     "traceback": [
      "\u001b[0;31m---------------------------------------------------------------------------\u001b[0m",
      "\u001b[0;31mNameError\u001b[0m                                 Traceback (most recent call last)",
      "\u001b[0;32m<ipython-input-4-6cf7fa89f5e8>\u001b[0m in \u001b[0;36m<module>\u001b[0;34m\u001b[0m\n\u001b[0;32m----> 1\u001b[0;31m \u001b[0mdrive\u001b[0m \u001b[0;34m=\u001b[0m \u001b[0mGoogleDrive\u001b[0m\u001b[0;34m(\u001b[0m\u001b[0mgauth\u001b[0m\u001b[0;34m)\u001b[0m\u001b[0;34m\u001b[0m\u001b[0;34m\u001b[0m\u001b[0m\n\u001b[0m",
      "\u001b[0;31mNameError\u001b[0m: name 'GoogleDrive' is not defined"
     ]
    }
   ],
   "source": [
    "drive = GoogleDrive(gauth)"
   ]
  },
  {
   "cell_type": "code",
   "execution_count": null,
   "id": "9ca2aba9",
   "metadata": {},
   "outputs": [],
   "source": []
  }
 ],
 "metadata": {
  "kernelspec": {
   "display_name": "Python 3",
   "language": "python",
   "name": "python3"
  },
  "language_info": {
   "codemirror_mode": {
    "name": "ipython",
    "version": 3
   },
   "file_extension": ".py",
   "mimetype": "text/x-python",
   "name": "python",
   "nbconvert_exporter": "python",
   "pygments_lexer": "ipython3",
   "version": "3.8.6"
  },
  "toc": {
   "base_numbering": 1,
   "nav_menu": {},
   "number_sections": true,
   "sideBar": true,
   "skip_h1_title": false,
   "title_cell": "Table of Contents",
   "title_sidebar": "Contents",
   "toc_cell": false,
   "toc_position": {},
   "toc_section_display": true,
   "toc_window_display": false
  }
 },
 "nbformat": 4,
 "nbformat_minor": 5
}
