{
 "cells": [
  {
   "cell_type": "code",
   "execution_count": 1,
   "id": "34d0ce6b",
   "metadata": {
    "collapsed": true
   },
   "outputs": [
    {
     "name": "stdout",
     "output_type": "stream",
     "text": [
      "Collecting pydrive\n",
      "  Downloading PyDrive-1.3.1.tar.gz (987 kB)\n",
      "\u001b[K     |████████████████████████████████| 987 kB 2.7 MB/s eta 0:00:01\n",
      "\u001b[?25hCollecting google-api-python-client>=1.2\n",
      "  Downloading google_api_python_client-2.9.0-py2.py3-none-any.whl (7.0 MB)\n",
      "\u001b[K     |████████████████████████████████| 7.0 MB 9.3 MB/s eta 0:00:01\n",
      "\u001b[?25hRequirement already satisfied: oauth2client>=4.0.0 in /Users/josefreitas/.pyenv/versions/3.8.6/envs/lewagon/lib/python3.8/site-packages (from pydrive) (4.1.3)\n",
      "Requirement already satisfied: PyYAML>=3.0 in /Users/josefreitas/.pyenv/versions/3.8.6/envs/lewagon/lib/python3.8/site-packages (from pydrive) (5.4.1)\n",
      "Collecting uritemplate<4dev,>=3.0.0\n",
      "  Downloading uritemplate-3.0.1-py2.py3-none-any.whl (15 kB)\n",
      "Collecting google-auth-httplib2>=0.1.0\n",
      "  Downloading google_auth_httplib2-0.1.0-py2.py3-none-any.whl (9.3 kB)\n",
      "Requirement already satisfied: google-auth<2dev,>=1.16.0 in /Users/josefreitas/.pyenv/versions/3.8.6/envs/lewagon/lib/python3.8/site-packages (from google-api-python-client>=1.2->pydrive) (1.28.1)\n",
      "Requirement already satisfied: six<2dev,>=1.13.0 in /Users/josefreitas/.pyenv/versions/3.8.6/envs/lewagon/lib/python3.8/site-packages (from google-api-python-client>=1.2->pydrive) (1.15.0)\n",
      "Requirement already satisfied: httplib2<1dev,>=0.15.0 in /Users/josefreitas/.pyenv/versions/3.8.6/envs/lewagon/lib/python3.8/site-packages (from google-api-python-client>=1.2->pydrive) (0.19.1)\n",
      "Requirement already satisfied: google-api-core<2dev,>=1.21.0 in /Users/josefreitas/.pyenv/versions/3.8.6/envs/lewagon/lib/python3.8/site-packages (from google-api-python-client>=1.2->pydrive) (1.28.0)\n",
      "Requirement already satisfied: requests<3.0.0dev,>=2.18.0 in /Users/josefreitas/.pyenv/versions/3.8.6/envs/lewagon/lib/python3.8/site-packages (from google-api-core<2dev,>=1.21.0->google-api-python-client>=1.2->pydrive) (2.25.1)\n",
      "Requirement already satisfied: googleapis-common-protos<2.0dev,>=1.6.0 in /Users/josefreitas/.pyenv/versions/3.8.6/envs/lewagon/lib/python3.8/site-packages (from google-api-core<2dev,>=1.21.0->google-api-python-client>=1.2->pydrive) (1.53.0)\n",
      "Requirement already satisfied: packaging>=14.3 in /Users/josefreitas/.pyenv/versions/3.8.6/envs/lewagon/lib/python3.8/site-packages (from google-api-core<2dev,>=1.21.0->google-api-python-client>=1.2->pydrive) (20.9)\n",
      "Requirement already satisfied: pytz in /Users/josefreitas/.pyenv/versions/3.8.6/envs/lewagon/lib/python3.8/site-packages (from google-api-core<2dev,>=1.21.0->google-api-python-client>=1.2->pydrive) (2021.1)\n",
      "Requirement already satisfied: protobuf>=3.12.0 in /Users/josefreitas/.pyenv/versions/3.8.6/envs/lewagon/lib/python3.8/site-packages (from google-api-core<2dev,>=1.21.0->google-api-python-client>=1.2->pydrive) (3.15.8)\n",
      "Requirement already satisfied: setuptools>=40.3.0 in /Users/josefreitas/.pyenv/versions/3.8.6/envs/lewagon/lib/python3.8/site-packages (from google-api-core<2dev,>=1.21.0->google-api-python-client>=1.2->pydrive) (49.2.1)\n",
      "Requirement already satisfied: cachetools<5.0,>=2.0.0 in /Users/josefreitas/.pyenv/versions/3.8.6/envs/lewagon/lib/python3.8/site-packages (from google-auth<2dev,>=1.16.0->google-api-python-client>=1.2->pydrive) (4.2.1)\n",
      "Requirement already satisfied: pyasn1-modules>=0.2.1 in /Users/josefreitas/.pyenv/versions/3.8.6/envs/lewagon/lib/python3.8/site-packages (from google-auth<2dev,>=1.16.0->google-api-python-client>=1.2->pydrive) (0.2.8)\n",
      "Requirement already satisfied: rsa<5,>=3.1.4 in /Users/josefreitas/.pyenv/versions/3.8.6/envs/lewagon/lib/python3.8/site-packages (from google-auth<2dev,>=1.16.0->google-api-python-client>=1.2->pydrive) (4.7.2)\n",
      "Requirement already satisfied: pyparsing<3,>=2.4.2 in /Users/josefreitas/.pyenv/versions/3.8.6/envs/lewagon/lib/python3.8/site-packages (from httplib2<1dev,>=0.15.0->google-api-python-client>=1.2->pydrive) (2.4.7)\n",
      "Requirement already satisfied: pyasn1>=0.1.7 in /Users/josefreitas/.pyenv/versions/3.8.6/envs/lewagon/lib/python3.8/site-packages (from oauth2client>=4.0.0->pydrive) (0.4.8)\n",
      "Requirement already satisfied: idna<3,>=2.5 in /Users/josefreitas/.pyenv/versions/3.8.6/envs/lewagon/lib/python3.8/site-packages (from requests<3.0.0dev,>=2.18.0->google-api-core<2dev,>=1.21.0->google-api-python-client>=1.2->pydrive) (2.10)\n",
      "Requirement already satisfied: urllib3<1.27,>=1.21.1 in /Users/josefreitas/.pyenv/versions/3.8.6/envs/lewagon/lib/python3.8/site-packages (from requests<3.0.0dev,>=2.18.0->google-api-core<2dev,>=1.21.0->google-api-python-client>=1.2->pydrive) (1.26.4)\n",
      "Requirement already satisfied: certifi>=2017.4.17 in /Users/josefreitas/.pyenv/versions/3.8.6/envs/lewagon/lib/python3.8/site-packages (from requests<3.0.0dev,>=2.18.0->google-api-core<2dev,>=1.21.0->google-api-python-client>=1.2->pydrive) (2020.12.5)\n",
      "Requirement already satisfied: chardet<5,>=3.0.2 in /Users/josefreitas/.pyenv/versions/3.8.6/envs/lewagon/lib/python3.8/site-packages (from requests<3.0.0dev,>=2.18.0->google-api-core<2dev,>=1.21.0->google-api-python-client>=1.2->pydrive) (4.0.0)\n",
      "Building wheels for collected packages: pydrive\n",
      "  Building wheel for pydrive (setup.py) ... \u001b[?25ldone\n",
      "\u001b[?25h  Created wheel for pydrive: filename=PyDrive-1.3.1-py3-none-any.whl size=27435 sha256=421ce12b9008c9fc5222df869a42dd174ce020ac81f1ca7a028ad445cd7c82e4\n",
      "  Stored in directory: /Users/josefreitas/Library/Caches/pip/wheels/c6/14/12/ccdcc5d3b41661f360f9c7d9f7ea9d1879a5f85aa4ecc8cc6f\n",
      "Successfully built pydrive\n",
      "Installing collected packages: uritemplate, google-auth-httplib2, google-api-python-client, pydrive\n",
      "Successfully installed google-api-python-client-2.9.0 google-auth-httplib2-0.1.0 pydrive-1.3.1 uritemplate-3.0.1\n",
      "\u001b[33mWARNING: You are using pip version 21.1.1; however, version 21.1.2 is available.\n",
      "You should consider upgrading via the '/Users/josefreitas/.pyenv/versions/3.8.6/envs/lewagon/bin/python3.8 -m pip install --upgrade pip' command.\u001b[0m\n"
     ]
    }
   ],
   "source": [
    "!pip install pydrive"
   ]
  },
  {
   "cell_type": "code",
   "execution_count": 6,
   "id": "9ac83089",
   "metadata": {},
   "outputs": [],
   "source": [
    "import pydrive"
   ]
  },
  {
   "cell_type": "code",
   "execution_count": 3,
   "id": "e76c33ad",
   "metadata": {},
   "outputs": [
    {
     "ename": "NameError",
     "evalue": "name 'gauth' is not defined",
     "output_type": "error",
     "traceback": [
      "\u001b[0;31m---------------------------------------------------------------------------\u001b[0m",
      "\u001b[0;31mNameError\u001b[0m                                 Traceback (most recent call last)",
      "\u001b[0;32m<ipython-input-3-792f41ab7318>\u001b[0m in \u001b[0;36m<module>\u001b[0;34m\u001b[0m\n\u001b[0;32m----> 1\u001b[0;31m \u001b[0mgauth\u001b[0m\u001b[0;34m.\u001b[0m\u001b[0mLocalWebserverAuth\u001b[0m\u001b[0;34m(\u001b[0m\u001b[0;34m)\u001b[0m\u001b[0;34m\u001b[0m\u001b[0;34m\u001b[0m\u001b[0m\n\u001b[0m",
      "\u001b[0;31mNameError\u001b[0m: name 'gauth' is not defined"
     ]
    }
   ],
   "source": [
    "gauth.LocalWebserverAuth()"
   ]
  },
  {
   "cell_type": "code",
   "execution_count": 4,
   "id": "5ddb8404",
   "metadata": {},
   "outputs": [
    {
     "ename": "NameError",
     "evalue": "name 'GoogleDrive' is not defined",
     "output_type": "error",
     "traceback": [
      "\u001b[0;31m---------------------------------------------------------------------------\u001b[0m",
      "\u001b[0;31mNameError\u001b[0m                                 Traceback (most recent call last)",
      "\u001b[0;32m<ipython-input-4-6cf7fa89f5e8>\u001b[0m in \u001b[0;36m<module>\u001b[0;34m\u001b[0m\n\u001b[0;32m----> 1\u001b[0;31m \u001b[0mdrive\u001b[0m \u001b[0;34m=\u001b[0m \u001b[0mGoogleDrive\u001b[0m\u001b[0;34m(\u001b[0m\u001b[0mgauth\u001b[0m\u001b[0;34m)\u001b[0m\u001b[0;34m\u001b[0m\u001b[0;34m\u001b[0m\u001b[0m\n\u001b[0m",
      "\u001b[0;31mNameError\u001b[0m: name 'GoogleDrive' is not defined"
     ]
    }
   ],
   "source": [
    "drive = GoogleDrive(gauth)"
   ]
  },
  {
   "cell_type": "code",
   "execution_count": 7,
   "id": "e12130dc",
   "metadata": {},
   "outputs": [
    {
     "name": "stdout",
     "output_type": "stream",
     "text": [
      "Usage: uvicorn [OPTIONS] APP\r\n",
      "Try 'uvicorn --help' for help.\r\n",
      "\r\n",
      "Error: no such option: -r\r\n"
     ]
    }
   ],
   "source": [
    "!uvicorn api.fast:app -reload"
   ]
  },
  {
   "cell_type": "code",
   "execution_count": 11,
   "id": "61db852a",
   "metadata": {},
   "outputs": [
    {
     "name": "stdout",
     "output_type": "stream",
     "text": [
      "\u001b[32mINFO\u001b[0m:     Uvicorn running on \u001b[1mhttp://127.0.0.1:8000\u001b[0m (Press CTRL+C to quit)\n",
      "\u001b[32mINFO\u001b[0m:     Started reloader process [\u001b[36m\u001b[1m93130\u001b[0m] using \u001b[36m\u001b[1mstatreload\u001b[0m\n",
      "\u001b[32mINFO\u001b[0m:     Started server process [\u001b[36m93132\u001b[0m]\n",
      "\u001b[32mINFO\u001b[0m:     Waiting for application startup.\n",
      "\u001b[32mINFO\u001b[0m:     Application startup complete.\n",
      "\u001b[32mINFO\u001b[0m:     127.0.0.1:59922 - \"\u001b[1mGET /docs HTTP/1.1\u001b[0m\" \u001b[32m200 OK\u001b[0m\n",
      "\u001b[32mINFO\u001b[0m:     127.0.0.1:59922 - \"\u001b[1mGET /openapi.json HTTP/1.1\u001b[0m\" \u001b[32m200 OK\u001b[0m\n",
      "^C\n",
      "\u001b[32mINFO\u001b[0m:     Shutting down\n",
      "\u001b[32mINFO\u001b[0m:     Waiting for application shutdown.\n",
      "\u001b[32mINFO\u001b[0m:     Application shutdown complete.\n",
      "\u001b[32mINFO\u001b[0m:     Finished server process [\u001b[36m93132\u001b[0m]\n"
     ]
    }
   ],
   "source": [
    "!uvicorn api.fast:app --reload"
   ]
  },
  {
   "cell_type": "code",
   "execution_count": 8,
   "id": "9a88a0a7",
   "metadata": {},
   "outputs": [],
   "source": [
    "%load_ext autoreload\n",
    "%autoreload 2\n",
    "import pandas as pd"
   ]
  },
  {
   "cell_type": "code",
   "execution_count": 9,
   "id": "e7e18d3b",
   "metadata": {},
   "outputs": [],
   "source": [
    "data = {\n",
    "    \"title\": \"Israel-Gaza, Spa shootings, Obesity drugs: Your Tuesday Evening Briefing\",\n",
    "    \"author\": \"Whet Moser and Jade-Snow Joachim\",\n",
    "    \"source\": \"New York Times\",\n",
    "    \"url\": \"https://www.nytimes.com/2021/05/11/briefing/israel-gaza-spa-shootings-obesity-drugs.html\",\n",
    "    \"publishedAt\": \"2021-05-11\",\n",
    "    \"content\": \"10. And finally, the warm embrace of Asian supermarkets.\\r\\nH Mart began as Han Ah Reum, Korean for an armful, in Woodside, Queens. In 2020, its 105 locations sold $1.5 billion worth of kimchi, banchanâ€¦ [+837 chars]\"\n",
    "  }\n",
    "\n",
    "data_df = pd.DataFrame(data, index=[0])"
   ]
  },
  {
   "cell_type": "code",
   "execution_count": 10,
   "id": "c7819a9e",
   "metadata": {
    "scrolled": true
   },
   "outputs": [
    {
     "data": {
      "text/html": [
       "<div>\n",
       "<style scoped>\n",
       "    .dataframe tbody tr th:only-of-type {\n",
       "        vertical-align: middle;\n",
       "    }\n",
       "\n",
       "    .dataframe tbody tr th {\n",
       "        vertical-align: top;\n",
       "    }\n",
       "\n",
       "    .dataframe thead th {\n",
       "        text-align: right;\n",
       "    }\n",
       "</style>\n",
       "<table border=\"1\" class=\"dataframe\">\n",
       "  <thead>\n",
       "    <tr style=\"text-align: right;\">\n",
       "      <th></th>\n",
       "      <th>title</th>\n",
       "      <th>author</th>\n",
       "      <th>source</th>\n",
       "      <th>url</th>\n",
       "      <th>publishedAt</th>\n",
       "      <th>content</th>\n",
       "    </tr>\n",
       "  </thead>\n",
       "  <tbody>\n",
       "    <tr>\n",
       "      <th>0</th>\n",
       "      <td>Israel-Gaza, Spa shootings, Obesity drugs: You...</td>\n",
       "      <td>Whet Moser and Jade-Snow Joachim</td>\n",
       "      <td>New York Times</td>\n",
       "      <td>https://www.nytimes.com/2021/05/11/briefing/is...</td>\n",
       "      <td>2021-05-11</td>\n",
       "      <td>10. And finally, the warm embrace of Asian sup...</td>\n",
       "    </tr>\n",
       "  </tbody>\n",
       "</table>\n",
       "</div>"
      ],
      "text/plain": [
       "                                               title  \\\n",
       "0  Israel-Gaza, Spa shootings, Obesity drugs: You...   \n",
       "\n",
       "                             author          source  \\\n",
       "0  Whet Moser and Jade-Snow Joachim  New York Times   \n",
       "\n",
       "                                                 url publishedAt  \\\n",
       "0  https://www.nytimes.com/2021/05/11/briefing/is...  2021-05-11   \n",
       "\n",
       "                                             content  \n",
       "0  10. And finally, the warm embrace of Asian sup...  "
      ]
     },
     "execution_count": 10,
     "metadata": {},
     "output_type": "execute_result"
    }
   ],
   "source": [
    "data_df.head()"
   ]
  },
  {
   "cell_type": "code",
   "execution_count": 47,
   "id": "a86cbf10",
   "metadata": {},
   "outputs": [],
   "source": [
    "import os\n",
    "from google.cloud import storage\n",
    "\n",
    "os.environ[\"GOOGLE_APPLICATION_CREDENTIALS\"]='../api/wagon-bootcamp-311206-ca90fdd74d5b.json'\n",
    "\n",
    "# Loading the model\n",
    "client = storage.Client()\n",
    "path = \"gs://big_picture_model/model\"\n",
    "model = Classifier()"
   ]
  },
  {
   "cell_type": "code",
   "execution_count": 3,
   "id": "5293f903",
   "metadata": {},
   "outputs": [],
   "source": [
    "from big_picture.classifier import Classifier\n",
    "path = \"../models/baseline_v01\"\n",
    "model = Classifier()"
   ]
  },
  {
   "cell_type": "code",
   "execution_count": 4,
   "id": "a05f129c",
   "metadata": {
    "scrolled": true
   },
   "outputs": [
    {
     "name": "stderr",
     "output_type": "stream",
     "text": [
      "All model checkpoint layers were used when initializing TFDistilBertForSequenceClassification.\n",
      "\n",
      "All the layers of TFDistilBertForSequenceClassification were initialized from the model checkpoint at distilbert-base-uncased-finetuned-sst-2-english.\n",
      "If your task is similar to the task the model of the checkpoint was trained on, you can already use TFDistilBertForSequenceClassification for predictions without further training.\n"
     ]
    },
    {
     "name": "stdout",
     "output_type": "stream",
     "text": [
      "WARNING:tensorflow:Inconsistent references when loading the checkpoint into this object graph. Either the Trackable object references in the Python program have changed in an incompatible way, or the checkpoint was generated in an incompatible program.\n",
      "\n",
      "Two checkpoint references resolved to different objects (<tensorflow.python.keras.layers.core.Dense object at 0x1c40ba340> and <tensorflow.python.keras.layers.core.Dropout object at 0x19eb2a820>).\n",
      "WARNING:tensorflow:Inconsistent references when loading the checkpoint into this object graph. Either the Trackable object references in the Python program have changed in an incompatible way, or the checkpoint was generated in an incompatible program.\n",
      "\n",
      "Two checkpoint references resolved to different objects (<tensorflow.python.keras.layers.core.Dense object at 0x19eb2adf0> and <tensorflow.python.keras.layers.core.Dense object at 0x1c40ba340>).\n",
      "WARNING:tensorflow:Inconsistent references when loading the checkpoint into this object graph. Either the Trackable object references in the Python program have changed in an incompatible way, or the checkpoint was generated in an incompatible program.\n",
      "\n",
      "Two checkpoint references resolved to different objects (<tensorflow.python.keras.layers.core.Dense object at 0x1c4355f40> and <tensorflow.python.keras.layers.core.Dropout object at 0x1c423d6a0>).\n"
     ]
    },
    {
     "ename": "ValueError",
     "evalue": "Shapes (150,) and (350,) are incompatible",
     "output_type": "error",
     "traceback": [
      "\u001b[0;31m---------------------------------------------------------------------------\u001b[0m",
      "\u001b[0;31mValueError\u001b[0m                                Traceback (most recent call last)",
      "\u001b[0;32m<ipython-input-4-391fd3a807f9>\u001b[0m in \u001b[0;36m<module>\u001b[0;34m\u001b[0m\n\u001b[0;32m----> 1\u001b[0;31m \u001b[0mmodel\u001b[0m\u001b[0;34m.\u001b[0m\u001b[0mload\u001b[0m\u001b[0;34m(\u001b[0m\u001b[0mpath\u001b[0m\u001b[0;34m)\u001b[0m\u001b[0;34m\u001b[0m\u001b[0;34m\u001b[0m\u001b[0m\n\u001b[0m",
      "\u001b[0;32m~/.pyenv/versions/3.8.6/envs/lewagon/lib/python3.8/site-packages/big_picture/classifier.py\u001b[0m in \u001b[0;36mload\u001b[0;34m(self, path)\u001b[0m\n\u001b[1;32m    164\u001b[0m \u001b[0;34m\u001b[0m\u001b[0m\n\u001b[1;32m    165\u001b[0m         \u001b[0mself\u001b[0m\u001b[0;34m.\u001b[0m\u001b[0mmodel\u001b[0m \u001b[0;34m=\u001b[0m \u001b[0minitialize_class_bert_dropout\u001b[0m\u001b[0;34m(\u001b[0m\u001b[0mself\u001b[0m\u001b[0;34m.\u001b[0m\u001b[0minput_shape\u001b[0m\u001b[0;34m,\u001b[0m \u001b[0mself\u001b[0m\u001b[0;34m.\u001b[0m\u001b[0moutput_shape\u001b[0m\u001b[0;34m)\u001b[0m\u001b[0;34m\u001b[0m\u001b[0;34m\u001b[0m\u001b[0m\n\u001b[0;32m--> 166\u001b[0;31m         \u001b[0mself\u001b[0m\u001b[0;34m.\u001b[0m\u001b[0mmodel\u001b[0m\u001b[0;34m.\u001b[0m\u001b[0mload_weights\u001b[0m\u001b[0;34m(\u001b[0m\u001b[0mmdl_path\u001b[0m\u001b[0;34m)\u001b[0m\u001b[0;34m\u001b[0m\u001b[0;34m\u001b[0m\u001b[0m\n\u001b[0m\u001b[1;32m    167\u001b[0m \u001b[0;34m\u001b[0m\u001b[0m\n\u001b[1;32m    168\u001b[0m         \u001b[0;31m#self._init()\u001b[0m\u001b[0;34m\u001b[0m\u001b[0;34m\u001b[0m\u001b[0;34m\u001b[0m\u001b[0m\n",
      "\u001b[0;32m~/.pyenv/versions/3.8.6/envs/lewagon/lib/python3.8/site-packages/tensorflow/python/keras/engine/training.py\u001b[0m in \u001b[0;36mload_weights\u001b[0;34m(self, filepath, by_name, skip_mismatch, options)\u001b[0m\n\u001b[1;32m   2203\u001b[0m         \u001b[0msave_format\u001b[0m \u001b[0;34m=\u001b[0m \u001b[0;34m'h5'\u001b[0m\u001b[0;34m\u001b[0m\u001b[0;34m\u001b[0m\u001b[0m\n\u001b[1;32m   2204\u001b[0m     \u001b[0;32mif\u001b[0m \u001b[0msave_format\u001b[0m \u001b[0;34m==\u001b[0m \u001b[0;34m'tf'\u001b[0m\u001b[0;34m:\u001b[0m\u001b[0;34m\u001b[0m\u001b[0;34m\u001b[0m\u001b[0m\n\u001b[0;32m-> 2205\u001b[0;31m       \u001b[0mstatus\u001b[0m \u001b[0;34m=\u001b[0m \u001b[0mself\u001b[0m\u001b[0;34m.\u001b[0m\u001b[0m_trackable_saver\u001b[0m\u001b[0;34m.\u001b[0m\u001b[0mrestore\u001b[0m\u001b[0;34m(\u001b[0m\u001b[0mfilepath\u001b[0m\u001b[0;34m,\u001b[0m \u001b[0moptions\u001b[0m\u001b[0;34m)\u001b[0m\u001b[0;34m\u001b[0m\u001b[0;34m\u001b[0m\u001b[0m\n\u001b[0m\u001b[1;32m   2206\u001b[0m       \u001b[0;32mif\u001b[0m \u001b[0mby_name\u001b[0m\u001b[0;34m:\u001b[0m\u001b[0;34m\u001b[0m\u001b[0;34m\u001b[0m\u001b[0m\n\u001b[1;32m   2207\u001b[0m         raise NotImplementedError(\n",
      "\u001b[0;32m~/.pyenv/versions/3.8.6/envs/lewagon/lib/python3.8/site-packages/tensorflow/python/training/tracking/util.py\u001b[0m in \u001b[0;36mrestore\u001b[0;34m(self, save_path, options)\u001b[0m\n\u001b[1;32m   1334\u001b[0m         \u001b[0mgraph_view\u001b[0m\u001b[0;34m=\u001b[0m\u001b[0mself\u001b[0m\u001b[0;34m.\u001b[0m\u001b[0m_graph_view\u001b[0m\u001b[0;34m,\u001b[0m\u001b[0;34m\u001b[0m\u001b[0;34m\u001b[0m\u001b[0m\n\u001b[1;32m   1335\u001b[0m         options=options)\n\u001b[0;32m-> 1336\u001b[0;31m     base.CheckpointPosition(\n\u001b[0m\u001b[1;32m   1337\u001b[0m         checkpoint=checkpoint, proto_id=0).restore(self._graph_view.root)\n\u001b[1;32m   1338\u001b[0m \u001b[0;34m\u001b[0m\u001b[0m\n",
      "\u001b[0;32m~/.pyenv/versions/3.8.6/envs/lewagon/lib/python3.8/site-packages/tensorflow/python/training/tracking/base.py\u001b[0m in \u001b[0;36mrestore\u001b[0;34m(self, trackable)\u001b[0m\n\u001b[1;32m    251\u001b[0m         \u001b[0;31m# This object's correspondence with a checkpointed object is new, so\u001b[0m\u001b[0;34m\u001b[0m\u001b[0;34m\u001b[0m\u001b[0;34m\u001b[0m\u001b[0m\n\u001b[1;32m    252\u001b[0m         \u001b[0;31m# process deferred restorations for it and its dependencies.\u001b[0m\u001b[0;34m\u001b[0m\u001b[0;34m\u001b[0m\u001b[0;34m\u001b[0m\u001b[0m\n\u001b[0;32m--> 253\u001b[0;31m         \u001b[0mrestore_ops\u001b[0m \u001b[0;34m=\u001b[0m \u001b[0mtrackable\u001b[0m\u001b[0;34m.\u001b[0m\u001b[0m_restore_from_checkpoint_position\u001b[0m\u001b[0;34m(\u001b[0m\u001b[0mself\u001b[0m\u001b[0;34m)\u001b[0m  \u001b[0;31m# pylint: disable=protected-access\u001b[0m\u001b[0;34m\u001b[0m\u001b[0;34m\u001b[0m\u001b[0m\n\u001b[0m\u001b[1;32m    254\u001b[0m         \u001b[0;32mif\u001b[0m \u001b[0mrestore_ops\u001b[0m\u001b[0;34m:\u001b[0m\u001b[0;34m\u001b[0m\u001b[0;34m\u001b[0m\u001b[0m\n\u001b[1;32m    255\u001b[0m           \u001b[0mself\u001b[0m\u001b[0;34m.\u001b[0m\u001b[0m_checkpoint\u001b[0m\u001b[0;34m.\u001b[0m\u001b[0mnew_restore_ops\u001b[0m\u001b[0;34m(\u001b[0m\u001b[0mrestore_ops\u001b[0m\u001b[0;34m)\u001b[0m\u001b[0;34m\u001b[0m\u001b[0;34m\u001b[0m\u001b[0m\n",
      "\u001b[0;32m~/.pyenv/versions/3.8.6/envs/lewagon/lib/python3.8/site-packages/tensorflow/python/training/tracking/base.py\u001b[0m in \u001b[0;36m_restore_from_checkpoint_position\u001b[0;34m(self, checkpoint_position)\u001b[0m\n\u001b[1;32m    970\u001b[0m       \u001b[0mpython_saveables\u001b[0m\u001b[0;34m.\u001b[0m\u001b[0mextend\u001b[0m\u001b[0;34m(\u001b[0m\u001b[0mnew_python_saveables\u001b[0m\u001b[0;34m)\u001b[0m\u001b[0;34m\u001b[0m\u001b[0;34m\u001b[0m\u001b[0m\n\u001b[1;32m    971\u001b[0m     restore_ops.extend(\n\u001b[0;32m--> 972\u001b[0;31m         current_position.checkpoint.restore_saveables(\n\u001b[0m\u001b[1;32m    973\u001b[0m             tensor_saveables, python_saveables))\n\u001b[1;32m    974\u001b[0m     \u001b[0;32mreturn\u001b[0m \u001b[0mrestore_ops\u001b[0m\u001b[0;34m\u001b[0m\u001b[0;34m\u001b[0m\u001b[0m\n",
      "\u001b[0;32m~/.pyenv/versions/3.8.6/envs/lewagon/lib/python3.8/site-packages/tensorflow/python/training/tracking/util.py\u001b[0m in \u001b[0;36mrestore_saveables\u001b[0;34m(self, tensor_saveables, python_saveables)\u001b[0m\n\u001b[1;32m    305\u001b[0m             (\"Saveable keys changed when validating. Got back %s, was \"\n\u001b[1;32m    306\u001b[0m              \"expecting %s\") % (tensor_saveables.keys(), validated_names))\n\u001b[0;32m--> 307\u001b[0;31m       new_restore_ops = functional_saver.MultiDeviceSaver(\n\u001b[0m\u001b[1;32m    308\u001b[0m           validated_saveables).restore(self.save_path_tensor, self.options)\n\u001b[1;32m    309\u001b[0m       \u001b[0;32mif\u001b[0m \u001b[0;32mnot\u001b[0m \u001b[0mcontext\u001b[0m\u001b[0;34m.\u001b[0m\u001b[0mexecuting_eagerly\u001b[0m\u001b[0;34m(\u001b[0m\u001b[0;34m)\u001b[0m\u001b[0;34m:\u001b[0m\u001b[0;34m\u001b[0m\u001b[0;34m\u001b[0m\u001b[0m\n",
      "\u001b[0;32m~/.pyenv/versions/3.8.6/envs/lewagon/lib/python3.8/site-packages/tensorflow/python/training/saving/functional_saver.py\u001b[0m in \u001b[0;36mrestore\u001b[0;34m(self, file_prefix, options)\u001b[0m\n\u001b[1;32m    343\u001b[0m       \u001b[0mrestore_ops\u001b[0m \u001b[0;34m=\u001b[0m \u001b[0mtf_function_restore\u001b[0m\u001b[0;34m(\u001b[0m\u001b[0;34m)\u001b[0m\u001b[0;34m\u001b[0m\u001b[0;34m\u001b[0m\u001b[0m\n\u001b[1;32m    344\u001b[0m     \u001b[0;32melse\u001b[0m\u001b[0;34m:\u001b[0m\u001b[0;34m\u001b[0m\u001b[0;34m\u001b[0m\u001b[0m\n\u001b[0;32m--> 345\u001b[0;31m       \u001b[0mrestore_ops\u001b[0m \u001b[0;34m=\u001b[0m \u001b[0mrestore_fn\u001b[0m\u001b[0;34m(\u001b[0m\u001b[0;34m)\u001b[0m\u001b[0;34m\u001b[0m\u001b[0;34m\u001b[0m\u001b[0m\n\u001b[0m\u001b[1;32m    346\u001b[0m \u001b[0;34m\u001b[0m\u001b[0m\n\u001b[1;32m    347\u001b[0m     \u001b[0;32mfor\u001b[0m \u001b[0mcallback\u001b[0m \u001b[0;32min\u001b[0m \u001b[0mself\u001b[0m\u001b[0;34m.\u001b[0m\u001b[0m_after_restore_callbacks\u001b[0m\u001b[0;34m:\u001b[0m\u001b[0;34m\u001b[0m\u001b[0;34m\u001b[0m\u001b[0m\n",
      "\u001b[0;32m~/.pyenv/versions/3.8.6/envs/lewagon/lib/python3.8/site-packages/tensorflow/python/training/saving/functional_saver.py\u001b[0m in \u001b[0;36mrestore_fn\u001b[0;34m()\u001b[0m\n\u001b[1;32m    319\u001b[0m       \u001b[0;32mfor\u001b[0m \u001b[0mdevice\u001b[0m\u001b[0;34m,\u001b[0m \u001b[0msaver\u001b[0m \u001b[0;32min\u001b[0m \u001b[0msorted\u001b[0m\u001b[0;34m(\u001b[0m\u001b[0mself\u001b[0m\u001b[0;34m.\u001b[0m\u001b[0m_single_device_savers\u001b[0m\u001b[0;34m.\u001b[0m\u001b[0mitems\u001b[0m\u001b[0;34m(\u001b[0m\u001b[0;34m)\u001b[0m\u001b[0;34m)\u001b[0m\u001b[0;34m:\u001b[0m\u001b[0;34m\u001b[0m\u001b[0;34m\u001b[0m\u001b[0m\n\u001b[1;32m    320\u001b[0m         \u001b[0;32mwith\u001b[0m \u001b[0mops\u001b[0m\u001b[0;34m.\u001b[0m\u001b[0mdevice\u001b[0m\u001b[0;34m(\u001b[0m\u001b[0mdevice\u001b[0m\u001b[0;34m)\u001b[0m\u001b[0;34m:\u001b[0m\u001b[0;34m\u001b[0m\u001b[0;34m\u001b[0m\u001b[0m\n\u001b[0;32m--> 321\u001b[0;31m           \u001b[0mrestore_ops\u001b[0m\u001b[0;34m.\u001b[0m\u001b[0mupdate\u001b[0m\u001b[0;34m(\u001b[0m\u001b[0msaver\u001b[0m\u001b[0;34m.\u001b[0m\u001b[0mrestore\u001b[0m\u001b[0;34m(\u001b[0m\u001b[0mfile_prefix\u001b[0m\u001b[0;34m,\u001b[0m \u001b[0moptions\u001b[0m\u001b[0;34m)\u001b[0m\u001b[0;34m)\u001b[0m\u001b[0;34m\u001b[0m\u001b[0;34m\u001b[0m\u001b[0m\n\u001b[0m\u001b[1;32m    322\u001b[0m \u001b[0;34m\u001b[0m\u001b[0m\n\u001b[1;32m    323\u001b[0m       \u001b[0;32mreturn\u001b[0m \u001b[0mrestore_ops\u001b[0m\u001b[0;34m\u001b[0m\u001b[0;34m\u001b[0m\u001b[0m\n",
      "\u001b[0;32m~/.pyenv/versions/3.8.6/envs/lewagon/lib/python3.8/site-packages/tensorflow/python/training/saving/functional_saver.py\u001b[0m in \u001b[0;36mrestore\u001b[0;34m(self, file_prefix, options)\u001b[0m\n\u001b[1;32m    113\u001b[0m     for saveable, restored_tensors in zip(self._saveable_objects,\n\u001b[1;32m    114\u001b[0m                                           structured_restored_tensors):\n\u001b[0;32m--> 115\u001b[0;31m       restore_ops[saveable.name] = saveable.restore(\n\u001b[0m\u001b[1;32m    116\u001b[0m           restored_tensors, restored_shapes=None)\n\u001b[1;32m    117\u001b[0m     \u001b[0;32mreturn\u001b[0m \u001b[0mrestore_ops\u001b[0m\u001b[0;34m\u001b[0m\u001b[0;34m\u001b[0m\u001b[0m\n",
      "\u001b[0;32m~/.pyenv/versions/3.8.6/envs/lewagon/lib/python3.8/site-packages/tensorflow/python/training/saving/saveable_object_util.py\u001b[0m in \u001b[0;36mrestore\u001b[0;34m(self, restored_tensors, restored_shapes)\u001b[0m\n\u001b[1;32m    129\u001b[0m     \u001b[0;32mwith\u001b[0m \u001b[0mops\u001b[0m\u001b[0;34m.\u001b[0m\u001b[0mdevice\u001b[0m\u001b[0;34m(\u001b[0m\u001b[0mself\u001b[0m\u001b[0;34m.\u001b[0m\u001b[0m_var_device\u001b[0m\u001b[0;34m)\u001b[0m\u001b[0;34m:\u001b[0m\u001b[0;34m\u001b[0m\u001b[0;34m\u001b[0m\u001b[0m\n\u001b[1;32m    130\u001b[0m       \u001b[0mrestored_tensor\u001b[0m \u001b[0;34m=\u001b[0m \u001b[0marray_ops\u001b[0m\u001b[0;34m.\u001b[0m\u001b[0midentity\u001b[0m\u001b[0;34m(\u001b[0m\u001b[0mrestored_tensor\u001b[0m\u001b[0;34m)\u001b[0m\u001b[0;34m\u001b[0m\u001b[0;34m\u001b[0m\u001b[0m\n\u001b[0;32m--> 131\u001b[0;31m       return resource_variable_ops.shape_safe_assign_variable_handle(\n\u001b[0m\u001b[1;32m    132\u001b[0m           self.handle_op, self._var_shape, restored_tensor)\n\u001b[1;32m    133\u001b[0m \u001b[0;34m\u001b[0m\u001b[0m\n",
      "\u001b[0;32m~/.pyenv/versions/3.8.6/envs/lewagon/lib/python3.8/site-packages/tensorflow/python/ops/resource_variable_ops.py\u001b[0m in \u001b[0;36mshape_safe_assign_variable_handle\u001b[0;34m(handle, shape, value, name)\u001b[0m\n\u001b[1;32m    305\u001b[0m   \u001b[0;32mwith\u001b[0m \u001b[0m_handle_graph\u001b[0m\u001b[0;34m(\u001b[0m\u001b[0mhandle\u001b[0m\u001b[0;34m)\u001b[0m\u001b[0;34m:\u001b[0m\u001b[0;34m\u001b[0m\u001b[0;34m\u001b[0m\u001b[0m\n\u001b[1;32m    306\u001b[0m     \u001b[0mvalue_tensor\u001b[0m \u001b[0;34m=\u001b[0m \u001b[0mops\u001b[0m\u001b[0;34m.\u001b[0m\u001b[0mconvert_to_tensor\u001b[0m\u001b[0;34m(\u001b[0m\u001b[0mvalue\u001b[0m\u001b[0;34m)\u001b[0m\u001b[0;34m\u001b[0m\u001b[0;34m\u001b[0m\u001b[0m\n\u001b[0;32m--> 307\u001b[0;31m   \u001b[0mshape\u001b[0m\u001b[0;34m.\u001b[0m\u001b[0massert_is_compatible_with\u001b[0m\u001b[0;34m(\u001b[0m\u001b[0mvalue_tensor\u001b[0m\u001b[0;34m.\u001b[0m\u001b[0mshape\u001b[0m\u001b[0;34m)\u001b[0m\u001b[0;34m\u001b[0m\u001b[0;34m\u001b[0m\u001b[0m\n\u001b[0m\u001b[1;32m    308\u001b[0m   return gen_resource_variable_ops.assign_variable_op(\n\u001b[1;32m    309\u001b[0m       handle, value_tensor, name=name)\n",
      "\u001b[0;32m~/.pyenv/versions/3.8.6/envs/lewagon/lib/python3.8/site-packages/tensorflow/python/framework/tensor_shape.py\u001b[0m in \u001b[0;36massert_is_compatible_with\u001b[0;34m(self, other)\u001b[0m\n\u001b[1;32m   1132\u001b[0m     \"\"\"\n\u001b[1;32m   1133\u001b[0m     \u001b[0;32mif\u001b[0m \u001b[0;32mnot\u001b[0m \u001b[0mself\u001b[0m\u001b[0;34m.\u001b[0m\u001b[0mis_compatible_with\u001b[0m\u001b[0;34m(\u001b[0m\u001b[0mother\u001b[0m\u001b[0;34m)\u001b[0m\u001b[0;34m:\u001b[0m\u001b[0;34m\u001b[0m\u001b[0;34m\u001b[0m\u001b[0m\n\u001b[0;32m-> 1134\u001b[0;31m       \u001b[0;32mraise\u001b[0m \u001b[0mValueError\u001b[0m\u001b[0;34m(\u001b[0m\u001b[0;34m\"Shapes %s and %s are incompatible\"\u001b[0m \u001b[0;34m%\u001b[0m \u001b[0;34m(\u001b[0m\u001b[0mself\u001b[0m\u001b[0;34m,\u001b[0m \u001b[0mother\u001b[0m\u001b[0;34m)\u001b[0m\u001b[0;34m)\u001b[0m\u001b[0;34m\u001b[0m\u001b[0;34m\u001b[0m\u001b[0m\n\u001b[0m\u001b[1;32m   1135\u001b[0m \u001b[0;34m\u001b[0m\u001b[0m\n\u001b[1;32m   1136\u001b[0m   \u001b[0;32mdef\u001b[0m \u001b[0mmost_specific_compatible_shape\u001b[0m\u001b[0;34m(\u001b[0m\u001b[0mself\u001b[0m\u001b[0;34m,\u001b[0m \u001b[0mother\u001b[0m\u001b[0;34m)\u001b[0m\u001b[0;34m:\u001b[0m\u001b[0;34m\u001b[0m\u001b[0;34m\u001b[0m\u001b[0m\n",
      "\u001b[0;31mValueError\u001b[0m: Shapes (150,) and (350,) are incompatible"
     ]
    }
   ],
   "source": [
    "\n",
    "model.load(path)"
   ]
  },
  {
   "cell_type": "code",
   "execution_count": 11,
   "id": "093f0c2f",
   "metadata": {},
   "outputs": [
    {
     "name": "stdout",
     "output_type": "stream",
     "text": [
      "Preparing pre_processed_text column\n",
      "Lowering the cases\n",
      "-------------------------\n",
      "Minor pre-processing done\n",
      "-------------------------\n",
      "Counting numbers\n",
      "Revealing emotions\n",
      "Analyzing vocabulary bank account!\n",
      "-------------------------\n",
      "New features added\n",
      "-------------------------\n",
      "Removing digits\n",
      "Removing pesky dots\n",
      "Disabling emojis\n",
      "-------------------------\n",
      "Excess data removed\n",
      "-------------------------\n",
      "Tokenizing\n",
      "Checking for stopwords\n",
      "Lematizing, yummy!\n",
      "-------------------------\n",
      "Data pre-processed\n",
      "-------------------------\n"
     ]
    },
    {
     "data": {
      "application/vnd.jupyter.widget-view+json": {
       "model_id": "adbbc1c193dd48e3b717f7188c3d22fc",
       "version_major": 2,
       "version_minor": 0
      },
      "text/plain": [
       "Batches:   0%|          | 0/1 [00:00<?, ?it/s]"
      ]
     },
     "metadata": {},
     "output_type": "display_data"
    },
    {
     "name": "stdout",
     "output_type": "stream",
     "text": [
      "[[2.3490301e-25 2.0676967e-10 1.7547971e-07 1.2446769e-07 1.0377854e-06\n",
      "  2.5757893e-10 3.9572847e-20 3.7016289e-11 3.9376665e-11 5.3232942e-15\n",
      "  6.0635730e-06 3.6057587e-10 3.4324769e-11 9.9999225e-01 6.5537661e-21\n",
      "  3.2368752e-07]]\n",
      "13\n",
      "['Technology']\n"
     ]
    },
    {
     "name": "stderr",
     "output_type": "stream",
     "text": [
      "Some layers from the model checkpoint at distilbert-base-uncased-finetuned-sst-2-english were not used when initializing TFDistilBertForSequenceClassification: ['dropout_19']\n",
      "- This IS expected if you are initializing TFDistilBertForSequenceClassification from the checkpoint of a model trained on another task or with another architecture (e.g. initializing a BertForSequenceClassification model from a BertForPreTraining model).\n",
      "- This IS NOT expected if you are initializing TFDistilBertForSequenceClassification from the checkpoint of a model that you expect to be exactly identical (initializing a BertForSequenceClassification model from a BertForSequenceClassification model).\n",
      "Some layers of TFDistilBertForSequenceClassification were not initialized from the model checkpoint at distilbert-base-uncased-finetuned-sst-2-english and are newly initialized: ['dropout_41']\n",
      "You should probably TRAIN this model on a down-stream task to be able to use it for predictions and inference.\n",
      "/Users/josefreitas/.pyenv/versions/3.8.6/envs/lewagon/lib/python3.8/site-packages/big_picture/classifier.py:267: SettingWithCopyWarning: \n",
      "A value is trying to be set on a copy of a slice from a DataFrame.\n",
      "Try using .loc[row_indexer,col_indexer] = value instead\n",
      "\n",
      "See the caveats in the documentation: https://pandas.pydata.org/pandas-docs/stable/user_guide/indexing.html#returning-a-view-versus-a-copy\n",
      "  output_df[['SA']] = sa[0][1]-sa[0][0]\n",
      "/Users/josefreitas/.pyenv/versions/3.8.6/envs/lewagon/lib/python3.8/site-packages/pandas/core/indexing.py:1720: SettingWithCopyWarning: \n",
      "A value is trying to be set on a copy of a slice from a DataFrame.\n",
      "Try using .loc[row_indexer,col_indexer] = value instead\n",
      "\n",
      "See the caveats in the documentation: https://pandas.pydata.org/pandas-docs/stable/user_guide/indexing.html#returning-a-view-versus-a-copy\n",
      "  self._setitem_single_column(loc, value, pi)\n"
     ]
    }
   ],
   "source": [
    "prediction = model.predict(data_df, source='prepared', params={'cat_mapping': False}, printed=True)"
   ]
  },
  {
   "cell_type": "code",
   "execution_count": 12,
   "id": "a500755d",
   "metadata": {},
   "outputs": [],
   "source": [
    "this_cluster = model.labels['Activism'].clusters[0]"
   ]
  },
  {
   "cell_type": "code",
   "execution_count": 54,
   "id": "0f915378",
   "metadata": {},
   "outputs": [
    {
     "ename": "NameError",
     "evalue": "name 'prediction' is not defined",
     "output_type": "error",
     "traceback": [
      "\u001b[0;31m---------------------------------------------------------------------------\u001b[0m",
      "\u001b[0;31mNameError\u001b[0m                                 Traceback (most recent call last)",
      "\u001b[0;32m<ipython-input-54-26b520819def>\u001b[0m in \u001b[0;36m<module>\u001b[0;34m\u001b[0m\n\u001b[0;32m----> 1\u001b[0;31m \u001b[0;32mfor\u001b[0m \u001b[0mkey\u001b[0m \u001b[0;32min\u001b[0m \u001b[0mprediction\u001b[0m\u001b[0;34m.\u001b[0m\u001b[0mkeys\u001b[0m\u001b[0;34m(\u001b[0m\u001b[0;34m)\u001b[0m\u001b[0;34m:\u001b[0m\u001b[0;34m\u001b[0m\u001b[0;34m\u001b[0m\u001b[0m\n\u001b[0m\u001b[1;32m      2\u001b[0m     \u001b[0mthis_cluster\u001b[0m \u001b[0;34m=\u001b[0m \u001b[0mprediction\u001b[0m\u001b[0;34m[\u001b[0m\u001b[0mkey\u001b[0m\u001b[0;34m]\u001b[0m\u001b[0;34m\u001b[0m\u001b[0;34m\u001b[0m\u001b[0m\n",
      "\u001b[0;31mNameError\u001b[0m: name 'prediction' is not defined"
     ]
    }
   ],
   "source": [
    "for key in prediction.keys():\n",
    "    this_cluster = prediction[key]\n"
   ]
  },
  {
   "cell_type": "code",
   "execution_count": 30,
   "id": "e7d964c3",
   "metadata": {},
   "outputs": [],
   "source": [
    "res_dict = {'data': pd.DataFrame.to_json(this_cluster.df),\n",
    "            'topic': this_cluster.topic}"
   ]
  },
  {
   "cell_type": "code",
   "execution_count": 29,
   "id": "c8c0f0ac",
   "metadata": {},
   "outputs": [
    {
     "data": {
      "text/plain": [
       "'{\"title\":{\"0\":\"Florida zoo announces birth of southern white rhino\",\"1\":\"Florida zoo announces birth of southern white rhino\",\"2\":\"China\\\\u2019s wildlife authorities plan to guide wandering herd of wild elephants to suitable habitat\",\"3\":\"You will love these excellent photos from the Westminster Dog Show in New York\",\"4\":\"Edenhope-bred kelpie, Hoover, sells for $35,200 at Casterton working dog auction\",\"5\":\"Tusker \\\\u2018Silver Monstra\\\\u2019 to be captured by Forest Department in Gudalur, taken to elephant camp\",\"6\":\"Belugas to arrive at Mystic Aquarium after legal battle\",\"7\":\"Defence Force responds to commercial distress call off WA coast\",\"8\":\"Belugas to arrive at Mystic Aquarium after legal battle\",\"9\":\"Adorable Video Shows Rescue Puppies on a Field Trip to the Aquarium\",\"10\":\"Disney examines mask policy, theme park capacity after updated CDC guidelines\",\"11\":\"Sgt Matt Ratana: Police puppies named in shot officer\\'s memory\",\"12\":\"Spotted a few herons this spring? There\\'s a reason for that\",\"13\":\"News24.com | Boom times for organic cocoa in Ivory Coast\",\"14\":\"Ospreys\\' Llyn Brenig rebuilt-nest taken over by goose\",\"15\":\"Campfires to look a little different on Tofino beaches this summer\",\"16\":\"The shocking ways wild animals use electricity\"},\"SA\":{\"0\":-0.8163328767,\"1\":-0.8205876946,\"2\":0.8679423928,\"3\":-0.7131880522,\"4\":-0.8906091452,\"5\":-0.9216786623,\"6\":-0.9766923189,\"7\":-0.9644724727,\"8\":-0.9721124768,\"9\":0.785752058,\"10\":-0.9582895041,\"11\":-0.9840778708,\"12\":-0.8839938641,\"13\":0.98595649,\"14\":-0.9904617071,\"15\":-0.9865602255,\"16\":-0.3041752279}}'"
      ]
     },
     "execution_count": 29,
     "metadata": {},
     "output_type": "execute_result"
    }
   ],
   "source": [
    "pd.DataFrame.to_json(this_cluster.df)"
   ]
  },
  {
   "cell_type": "code",
   "execution_count": 31,
   "id": "0cb6f77c",
   "metadata": {},
   "outputs": [],
   "source": [
    "with open('frontend_ex.json', 'w') as f:\n",
    "    json.dump(res_dict, f)"
   ]
  },
  {
   "cell_type": "code",
   "execution_count": 67,
   "id": "9ad1891b",
   "metadata": {},
   "outputs": [
    {
     "data": {
      "text/plain": [
       "<wordcloud.wordcloud.WordCloud at 0x1ab5ff700>"
      ]
     },
     "execution_count": 67,
     "metadata": {},
     "output_type": "execute_result"
    }
   ],
   "source": [
    "this_cluster.wordcloud"
   ]
  },
  {
   "cell_type": "code",
   "execution_count": 29,
   "id": "d05f93f3",
   "metadata": {},
   "outputs": [
    {
     "ename": "NameError",
     "evalue": "name 'this_cluster' is not defined",
     "output_type": "error",
     "traceback": [
      "\u001b[0;31m---------------------------------------------------------------------------\u001b[0m",
      "\u001b[0;31mNameError\u001b[0m                                 Traceback (most recent call last)",
      "\u001b[0;32m<ipython-input-29-3d16ed930383>\u001b[0m in \u001b[0;36m<module>\u001b[0;34m\u001b[0m\n\u001b[0;32m----> 1\u001b[0;31m \u001b[0mthis_cluster\u001b[0m\u001b[0;34m.\u001b[0m\u001b[0mdf\u001b[0m\u001b[0;34m\u001b[0m\u001b[0;34m\u001b[0m\u001b[0m\n\u001b[0m",
      "\u001b[0;31mNameError\u001b[0m: name 'this_cluster' is not defined"
     ]
    }
   ],
   "source": [
    "this_cluster.df"
   ]
  },
  {
   "cell_type": "code",
   "execution_count": 63,
   "id": "34c14fff",
   "metadata": {},
   "outputs": [
    {
     "data": {
      "text/plain": [
       "list"
      ]
     },
     "execution_count": 63,
     "metadata": {},
     "output_type": "execute_result"
    }
   ],
   "source": [
    "type(this_cluster.topic)"
   ]
  },
  {
   "cell_type": "code",
   "execution_count": 8,
   "id": "0a54d701",
   "metadata": {},
   "outputs": [],
   "source": [
    "import requests"
   ]
  },
  {
   "cell_type": "code",
   "execution_count": 9,
   "id": "dd2432d5",
   "metadata": {},
   "outputs": [],
   "source": [
    "url = \"https://api-s4zpk52g3a-ew.a.run.app\""
   ]
  },
  {
   "cell_type": "code",
   "execution_count": 11,
   "id": "5e8eef8f",
   "metadata": {},
   "outputs": [],
   "source": [
    "response = requests.get(url + \"/search\", params={'query': 'trump'})"
   ]
  },
  {
   "cell_type": "code",
   "execution_count": 14,
   "id": "68b85cb9",
   "metadata": {},
   "outputs": [],
   "source": [
    "data = response.json()['0']"
   ]
  },
  {
   "cell_type": "code",
   "execution_count": 23,
   "id": "4a52e59c",
   "metadata": {},
   "outputs": [],
   "source": [
    "example = {\n",
    "    \"title\": \"Israel-Gaza, Spa shootings, Obesity drugs: Your Tuesday Evening Briefing\",\n",
    "    \"author\": \"Whet Moser and Jade-Snow Joachim\",\n",
    "    \"source\": \"New York Times\",\n",
    "    \"description\": \"random desc\",\n",
    "    \"url\": \"https://www.nytimes.com/2021/05/11/briefing/israel-gaza-spa-shootings-obesity-drugs.html\",\n",
    "    \"publishedAt\": \"2021-05-11\",\n",
    "    \"content\": \"10. And finally, the warm embrace of Asian supermarkets.\\r\\nH Mart began as Han Ah Reum, Korean for an armful, in Woodside, Queens. In 2020, its 105 locations sold $1.5 billion worth of kimchi, banchanâ€¦ [+837 chars]\"\n",
    "}"
   ]
  },
  {
   "cell_type": "code",
   "execution_count": 26,
   "id": "bd8ab5fb",
   "metadata": {},
   "outputs": [],
   "source": [
    "response = requests.post(url + '/predict', json=example)"
   ]
  },
  {
   "cell_type": "code",
   "execution_count": 28,
   "id": "6756e338",
   "metadata": {},
   "outputs": [
    {
     "data": {
      "text/plain": [
       "<Response [500]>"
      ]
     },
     "execution_count": 28,
     "metadata": {},
     "output_type": "execute_result"
    }
   ],
   "source": [
    "response"
   ]
  },
  {
   "cell_type": "code",
   "execution_count": null,
   "id": "4c316f25",
   "metadata": {},
   "outputs": [],
   "source": []
  }
 ],
 "metadata": {
  "kernelspec": {
   "display_name": "Python 3",
   "language": "python",
   "name": "python3"
  },
  "language_info": {
   "codemirror_mode": {
    "name": "ipython",
    "version": 3
   },
   "file_extension": ".py",
   "mimetype": "text/x-python",
   "name": "python",
   "nbconvert_exporter": "python",
   "pygments_lexer": "ipython3",
   "version": "3.8.6"
  },
  "toc": {
   "base_numbering": 1,
   "nav_menu": {},
   "number_sections": true,
   "sideBar": true,
   "skip_h1_title": false,
   "title_cell": "Table of Contents",
   "title_sidebar": "Contents",
   "toc_cell": false,
   "toc_position": {},
   "toc_section_display": true,
   "toc_window_display": false
  }
 },
 "nbformat": 4,
 "nbformat_minor": 5
}
